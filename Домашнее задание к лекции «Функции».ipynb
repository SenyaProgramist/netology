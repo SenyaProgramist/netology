{
 "cells": [
  {
   "cell_type": "code",
   "execution_count": 10,
   "metadata": {},
   "outputs": [],
   "source": [
    "documents = [\n",
    "{'type': 'passport', 'number': '2207 876234', 'name': 'Василий Гупкин'},\n",
    "{'type': 'invoice', 'number': '11-2', 'name': 'Геннадий Покемонов'},\n",
    "{'type': 'insurance', 'number': '10006', 'name': 'Аристарх Павлов'}\n",
    "]"
   ]
  },
  {
   "cell_type": "code",
   "execution_count": 11,
   "metadata": {},
   "outputs": [],
   "source": [
    "directories = {\n",
    "'1': ['2207 876234', '11-2'],\n",
    "'2': ['10006'],\n",
    "'3': []\n",
    "}"
   ]
  },
  {
   "cell_type": "code",
   "execution_count": 12,
   "metadata": {},
   "outputs": [],
   "source": [
    "def doc_exists(num):\n",
    "    numbers = [doc['number'] for doc in documents]\n",
    "    return str(num) in numbers"
   ]
  },
  {
   "cell_type": "code",
   "execution_count": 31,
   "metadata": {},
   "outputs": [],
   "source": [
    "def get_name_by_num(num):\n",
    "    \"\"\"\n",
    "    Возвращает владельца документа по его номеру.\n",
    "    \n",
    "    get_name_by_num(10006)\n",
    "    Владелец документа: Аристарх Павлов\n",
    "    \"\"\"\n",
    "    if doc_exists(num):\n",
    "        for doc in documents:\n",
    "            if (num) == doc['number']:\n",
    "                return(doc['name'])\n",
    "                \n",
    "    else:\n",
    "        print('Документ не найден в базе')"
   ]
  },
  {
   "cell_type": "code",
   "execution_count": 32,
   "metadata": {},
   "outputs": [],
   "source": [
    "def get_doc_directory(num):\n",
    "    \"\"\"\n",
    "    Возвращает номер полки в которой находиться документ.\n",
    "    \n",
    "    get_doc_directory(10006)\n",
    "    Документ хранится на полке: 2\n",
    "\n",
    "    \"\"\"\n",
    "    if doc_exists(num):\n",
    "        for n, values in directories.items():\n",
    "            if (num) in values:\n",
    "                return(n)\n",
    "    \n",
    "    else:\n",
    "        print('Документ не найден в базе')"
   ]
  },
  {
   "cell_type": "code",
   "execution_count": 33,
   "metadata": {},
   "outputs": [],
   "source": [
    "def get_info():\n",
    "    \"\"\"\n",
    "    Возвращает инфо по всем документам.\n",
    "    \n",
    "    get_info()\n",
    "    №: 2207 876234, тип: passport, владелец: Василий Гупкин, полка хранения: 1\n",
    "    \"\"\"\n",
    "    \n",
    "    for doc in documents:\n",
    "        num = doc['number']\n",
    "        directory = get_doc_directory(num)\n",
    "        name = get_name_by_num(num)\n",
    "        cat = doc['type']\n",
    "        \n",
    "        \n",
    "        print(f'№: {num}, тип: {cat}, владелец: {name}, полка хранения: {directory}')"
   ]
  },
  {
   "cell_type": "code",
   "execution_count": 34,
   "metadata": {},
   "outputs": [],
   "source": [
    "def add_directory(n):\n",
    "    \"\"\"\n",
    "    Добавляет новую полку.\n",
    "\n",
    "    \"\"\"\n",
    "    dirs = directories.keys()\n",
    "    \n",
    "    if n in directories:\n",
    "        print(f'Такая полка уже существует. Текущий перечень полок: {dirs}')\n",
    "    else:\n",
    "        directories[n]=[]\n",
    "        print(f'Полка добавлена. Текущий перечень полок: {dirs}.')"
   ]
  },
  {
   "cell_type": "code",
   "execution_count": 35,
   "metadata": {},
   "outputs": [],
   "source": [
    "def del_directory(n):\n",
    "    \"\"\"\n",
    "    Удаляет полку.\n",
    "\n",
    "    \"\"\"\n",
    "    dirs = directories.keys()\n",
    "    \n",
    "    if str(n) in directories:\n",
    "        \n",
    "        if len(directories[(n)])!=0:\n",
    "            print(f'На полке есть документа, удалите их перед удалением полки. Текущий перечень полок: {dirs}')\n",
    "        else:\n",
    "            del(directories[(n)])\n",
    "            print(f'Полка удалена. Текущий перечень полок: {dirs}.')\n",
    "        \n",
    "    else: \n",
    "        print(f'Такой полки не существует. Текущий перечень полок: {dirs}.')\n",
    "        \n",
    "    "
   ]
  },
  {
   "cell_type": "code",
   "execution_count": null,
   "metadata": {},
   "outputs": [
    {
     "name": "stdout",
     "output_type": "stream",
     "text": [
      "Введите запрос: p\n",
      "Введите номер документа: 1006\n",
      "Документ не найден в базе\n",
      "None\n",
      "Введите запрос: p\n",
      "Введите номер документа: 1\n",
      "Документ не найден в базе\n",
      "None\n",
      "Введите запрос: p\n",
      "Введите номер документа: 10006\n",
      "Аристарх Павлов\n",
      "Введите запрос: l\n",
      "№: 2207 876234, тип: passport, владелец: Василий Гупкин, полка хранения: 1\n",
      "№: 11-2, тип: invoice, владелец: Геннадий Покемонов, полка хранения: 1\n",
      "№: 10006, тип: insurance, владелец: Аристарх Павлов, полка хранения: 2\n",
      "Введите запрос: l\n",
      "№: 2207 876234, тип: passport, владелец: Василий Гупкин, полка хранения: 1\n",
      "№: 11-2, тип: invoice, владелец: Геннадий Покемонов, полка хранения: 1\n",
      "№: 10006, тип: insurance, владелец: Аристарх Павлов, полка хранения: 2\n",
      "Введите запрос: s\n",
      "Введите номер документа: 10006\n",
      "2\n",
      "Введите запрос: s\n",
      "Введите номер документа: 1\n",
      "Документ не найден в базе\n",
      "None\n",
      "Введите запрос: as\n",
      "Введите номер полки: 12\n",
      "Полка добавлена. Текущий перечень полок: dict_keys(['1', '2', '3', 12, 13, '12']).\n"
     ]
    }
   ],
   "source": [
    "while True:\n",
    "    req = input(\"Введите запрос: \")\n",
    "    \n",
    "    if req == 'p':\n",
    "        num = input('Введите номер документа: ')\n",
    "        print(get_name_by_num((num)))\n",
    "        \n",
    "    elif req == 's':\n",
    "        num = input('Введите номер документа: ')\n",
    "        print(get_doc_directory((num)))\n",
    "        \n",
    "    elif req == 'l':\n",
    "        get_info() \n",
    "        \n",
    "    elif req == 'as':\n",
    "        num = input('Введите номер полки: ')\n",
    "        add_directory((num)) \n",
    "        \n",
    "    elif req == 'ds':\n",
    "        num = input('Введите номер полки: ')\n",
    "        del_directory(num) \n",
    "\n",
    "    elif req == 'q':\n",
    "        break"
   ]
  },
  {
   "cell_type": "markdown",
   "metadata": {},
   "source": []
  }
 ],
 "metadata": {
  "kernelspec": {
   "display_name": "Python 3",
   "language": "python",
   "name": "python3"
  },
  "language_info": {
   "codemirror_mode": {
    "name": "ipython",
    "version": 3
   },
   "file_extension": ".py",
   "mimetype": "text/x-python",
   "name": "python",
   "nbconvert_exporter": "python",
   "pygments_lexer": "ipython3",
   "version": "3.7.6"
  }
 },
 "nbformat": 4,
 "nbformat_minor": 4
}
