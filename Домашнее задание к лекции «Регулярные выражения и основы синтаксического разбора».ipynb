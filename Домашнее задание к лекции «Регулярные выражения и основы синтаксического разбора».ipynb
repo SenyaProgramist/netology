{
 "cells": [
  {
   "cell_type": "code",
   "execution_count": 1,
   "metadata": {},
   "outputs": [],
   "source": [
    "import re "
   ]
  },
  {
   "cell_type": "code",
   "execution_count": 5,
   "metadata": {},
   "outputs": [
    {
     "data": {
      "text/plain": [
       "[]"
      ]
     },
     "execution_count": 5,
     "metadata": {},
     "output_type": "execute_result"
    }
   ],
   "source": [
    "re.findall(r'[АВЕКМНОРСТУХ]{2}\\d{3}[A-ZА-Я]\\d{2}')"
   ]
  },
  {
   "cell_type": "code",
   "execution_count": 28,
   "metadata": {},
   "outputs": [],
   "source": [
    "def validate_car_number(num):  \n",
    "    res = re.findall(r'([АВЕКМНОРСТУХ]{2}\\d{3}[A-ZА-Я])(\\d{2})', num)\n",
    "    if res==False:\n",
    "        return 'Not valid'\n",
    "    else:\n",
    "        return f'Valid! Region: {res[0][1]}'"
   ]
  },
  {
   "cell_type": "code",
   "execution_count": 29,
   "metadata": {},
   "outputs": [
    {
     "data": {
      "text/plain": [
       "'Valid! Region: 96'"
      ]
     },
     "execution_count": 29,
     "metadata": {},
     "output_type": "execute_result"
    }
   ],
   "source": [
    "validate_car_number('АВ222С96')"
   ]
  },
  {
   "cell_type": "code",
   "execution_count": 38,
   "metadata": {},
   "outputs": [],
   "source": [
    "some_string = 'Напишите функцию функцию, которая будет будет будет будет удалять все все все все последовательные повторы слов из из из из заданной строки строки при помощи регулярных выражений'\n",
    "\n",
    "def del_repeated_words(string):\n",
    "    res = re.sub(r'([а-яА-ЯёЁ]+)(?=\\s\\1)', '', string)\n",
    "    return res"
   ]
  },
  {
   "cell_type": "code",
   "execution_count": 39,
   "metadata": {},
   "outputs": [
    {
     "data": {
      "text/plain": [
       "'Напишите  функцию, которая    будет удалять    все последовательные повторы слов    и заданной  строки при помощи регулярных выражений'"
      ]
     },
     "execution_count": 39,
     "metadata": {},
     "output_type": "execute_result"
    }
   ],
   "source": [
    "del_repeated_words(some_string)"
   ]
  },
  {
   "cell_type": "code",
   "execution_count": 54,
   "metadata": {},
   "outputs": [],
   "source": [
    "def acronym(word):\n",
    "    return ''.join(re.findall(r'[А-ЯёЁA-Y]|(?<=\\s)[а-ёa-y]', word))"
   ]
  },
  {
   "cell_type": "code",
   "execution_count": 55,
   "metadata": {},
   "outputs": [
    {
     "data": {
      "text/plain": [
       "'NFC'"
      ]
     },
     "execution_count": 55,
     "metadata": {},
     "output_type": "execute_result"
    }
   ],
   "source": [
    "acronym('Near Field Communication')"
   ]
  },
  {
   "cell_type": "code",
   "execution_count": 70,
   "metadata": {},
   "outputs": [],
   "source": [
    "emails = ['test@gmail.com', 'xyz@test.in', 'test@ya.ru', 'xyz@mail.ru', 'xyz@ya.ru', 'xyz@gmail.com']"
   ]
  },
  {
   "cell_type": "code",
   "execution_count": 111,
   "metadata": {},
   "outputs": [],
   "source": [
    "def classify_emails(list_emails):\n",
    "    res = {}\n",
    "    for email in list_emails:\n",
    "        extenstion = re.findall(r'@(\\w+\\.\\w+)', email)\n",
    "        if extenstion[0] in res:\n",
    "            res[extenstion[0]]+=1\n",
    "        else:\n",
    "            res[extenstion[0]] = 1 \n",
    "    for email, len_ in res.items():\n",
    "        print(f'{email} - {len_}')"
   ]
  },
  {
   "cell_type": "code",
   "execution_count": 112,
   "metadata": {},
   "outputs": [
    {
     "name": "stdout",
     "output_type": "stream",
     "text": [
      "gmail.com - 2\n",
      "test.in - 1\n",
      "ya.ru - 2\n",
      "mail.ru - 1\n"
     ]
    }
   ],
   "source": [
    "classify_emails(emails)"
   ]
  },
  {
   "cell_type": "code",
   "execution_count": null,
   "metadata": {},
   "outputs": [],
   "source": []
  }
 ],
 "metadata": {
  "kernelspec": {
   "display_name": "Python 3",
   "language": "python",
   "name": "python3"
  },
  "language_info": {
   "codemirror_mode": {
    "name": "ipython",
    "version": 3
   },
   "file_extension": ".py",
   "mimetype": "text/x-python",
   "name": "python",
   "nbconvert_exporter": "python",
   "pygments_lexer": "ipython3",
   "version": "3.7.6"
  }
 },
 "nbformat": 4,
 "nbformat_minor": 4
}
