{
 "cells": [
  {
   "cell_type": "markdown",
   "metadata": {},
   "source": [
    "### 1"
   ]
  },
  {
   "cell_type": "code",
   "execution_count": 3,
   "metadata": {},
   "outputs": [
    {
     "name": "stdout",
     "output_type": "stream",
     "text": [
      "Фраза 2 длиннее фразы 1\n"
     ]
    }
   ],
   "source": [
    "#Checks which of the strings has more characters \n",
    "\n",
    "phrase_1 = '640Кб должно хватить для любых задач. Билл Гейтс (по легенде)'\n",
    "phrase_2 = 'Насколько проще было бы писать программы, если бы не заказчики'\n",
    "\n",
    "p1 = len(phrase_1)\n",
    "p2 = len(phrase_2)\n",
    "\n",
    "if p1 > p2:\n",
    "    print('Фраза 1 длиннее фразы 2')\n",
    "elif p1<p2: \n",
    "    print('Фраза 2 длиннее фразы 1')\n",
    "else:\n",
    "    print('Фразы равной длины')"
   ]
  },
  {
   "cell_type": "markdown",
   "metadata": {},
   "source": [
    "# 2"
   ]
  },
  {
   "cell_type": "code",
   "execution_count": 13,
   "metadata": {},
   "outputs": [
    {
     "name": "stdout",
     "output_type": "stream",
     "text": [
      "Обычный\n"
     ]
    }
   ],
   "source": [
    "year = 2017\n",
    "y = year\n",
    "\n",
    "if y % 4 != 0:\n",
    "    print(\"Обычный год\")\n",
    "elif y % 100 == 0:\n",
    "    if y % 400 == 0:\n",
    "        print(\"Високосный год\")\n",
    "    else:\n",
    "        print(\"Обычный год\")\n",
    "else:\n",
    "    print(\"Високосный год\")\n"
   ]
  },
  {
   "cell_type": "markdown",
   "metadata": {},
   "source": [
    "# 3"
   ]
  },
  {
   "cell_type": "code",
   "execution_count": 18,
   "metadata": {},
   "outputs": [
    {
     "name": "stdout",
     "output_type": "stream",
     "text": [
      "Ваш знак зодиака: лев\n"
     ]
    }
   ],
   "source": [
    "day = 27\n",
    "month = 7\n",
    "if month == 12:\n",
    "    astro_sign = 'стрелец' if (day < 22) else 'козерог'\n",
    "elif month == 1:\n",
    "    astro_sign = 'козерог' if (day < 20) else 'водолей'\n",
    "elif month == 2:\n",
    "    astro_sign = 'водолей' if (day < 19) else 'рыбы'\n",
    "elif month == 3:\n",
    "    astro_sign = 'рыбы' if (day < 21) else 'овен'\n",
    "elif month == 4:\n",
    "    astro_sign = 'овен' if (day < 20) else 'телец'\n",
    "elif month == 5:\n",
    "    astro_sign = 'телец' if (day < 21) else 'близнецы'\n",
    "elif month == 6:\n",
    "    astro_sign = 'близнецы' if (day < 21) else 'рак'\n",
    "elif month == 7:\n",
    "    astro_sign = 'рак' if (day < 23) else 'лев'\n",
    "elif month == 8:\n",
    "    astro_sign = 'лев' if (day < 23) else 'дева'\n",
    "elif month == 9:\n",
    "    astro_sign = 'дева' if (day < 23) else 'весы'\n",
    "elif month == 10:\n",
    "    astro_sign = 'весы' if (day < 23) else 'скорпион'\n",
    "elif month == 11:\n",
    "    astro_sign = 'скорпион' if (day < 22) else 'стрелец'\n",
    "print(\"Ваш знак зодиака:\", astro_sign)"
   ]
  },
  {
   "cell_type": "markdown",
   "metadata": {},
   "source": [
    "### 5"
   ]
  },
  {
   "cell_type": "code",
   "execution_count": 19,
   "metadata": {},
   "outputs": [
    {
     "ename": "SyntaxError",
     "evalue": "invalid syntax (<ipython-input-19-321d2009b22c>, line 9)",
     "output_type": "error",
     "traceback": [
      "\u001b[0;36m  File \u001b[0;32m\"<ipython-input-19-321d2009b22c>\"\u001b[0;36m, line \u001b[0;32m9\u001b[0m\n\u001b[0;31m    if w,l,h<15:\u001b[0m\n\u001b[0m        ^\u001b[0m\n\u001b[0;31mSyntaxError\u001b[0m\u001b[0;31m:\u001b[0m invalid syntax\n"
     ]
    }
   ],
   "source": [
    "width = 10\n",
    "length = 205\n",
    "height = 5\n",
    "\n",
    "w = width\n",
    "l = length\n",
    "h = height\n",
    "\n",
    "if w<15 and h<15 and l<15:\n",
    "    print(1)\n",
    "elif w>15 and w<50 and l>15 and l<50 and h>15 and h<50:\n",
    "    print(2)\n",
    "elif w > 200 or h > 200 or l > 200:\n",
    "    print(\"Упаковка для лыж\")\n",
    "else:\n",
    "    print(3)"
   ]
  },
  {
   "cell_type": "code",
   "execution_count": null,
   "metadata": {},
   "outputs": [],
   "source": []
  }
 ],
 "metadata": {
  "kernelspec": {
   "display_name": "Python 3",
   "language": "python",
   "name": "python3"
  },
  "language_info": {
   "codemirror_mode": {
    "name": "ipython",
    "version": 3
   },
   "file_extension": ".py",
   "mimetype": "text/x-python",
   "name": "python",
   "nbconvert_exporter": "python",
   "pygments_lexer": "ipython3",
   "version": "3.7.6"
  }
 },
 "nbformat": 4,
 "nbformat_minor": 4
}
