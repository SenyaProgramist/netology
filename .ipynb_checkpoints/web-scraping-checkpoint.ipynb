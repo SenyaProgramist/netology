{
 "cells": [
  {
   "cell_type": "markdown",
   "metadata": {},
   "source": [
    "# Библиотека requests"
   ]
  },
  {
   "cell_type": "code",
   "execution_count": 1,
   "metadata": {},
   "outputs": [],
   "source": [
    "import requests"
   ]
  },
  {
   "cell_type": "code",
   "execution_count": 2,
   "metadata": {},
   "outputs": [
    {
     "data": {
      "text/plain": [
       "<Response [200]>"
      ]
     },
     "execution_count": 2,
     "metadata": {},
     "output_type": "execute_result"
    }
   ],
   "source": [
    "# метод get\n",
    "res = requests.get('https://yandex.ru')\n",
    "res\n",
    "# res.status_code"
   ]
  },
  {
   "cell_type": "code",
   "execution_count": 4,
   "metadata": {},
   "outputs": [],
   "source": [
    "# браузер отрисовал бы страницу на основе данного текста\n",
    "# res.text"
   ]
  },
  {
   "cell_type": "code",
   "execution_count": 5,
   "metadata": {},
   "outputs": [
    {
     "data": {
      "text/plain": [
       "<RequestsCookieJar[Cookie(version=0, name='i', value='i+SFyCJAfjSWbzlj/UB2MJQbaHvlcdFVZIBGMJyIj/7sRUZW/0njkHz6rM/6KfDKL/R68dTB/3ZKsZ51rHRqRISCaLQ=', port=None, port_specified=False, domain='.yandex.ru', domain_specified=True, domain_initial_dot=True, path='/', path_specified=True, secure=True, expires=1664994713, discard=False, comment=None, comment_url=None, rest={'HttpOnly': None}, rfc2109=False), Cookie(version=0, name='is_gdpr', value='1', port=None, port_specified=False, domain='.yandex.ru', domain_specified=True, domain_initial_dot=True, path='/', path_specified=True, secure=False, expires=1664994713, discard=False, comment=None, comment_url=None, rest={}, rfc2109=False), Cookie(version=0, name='is_gdpr_b', value='CNnvZBCFBRgBKAE=', port=None, port_specified=False, domain='.yandex.ru', domain_specified=True, domain_initial_dot=True, path='/', path_specified=True, secure=False, expires=1664994713, discard=False, comment=None, comment_url=None, rest={}, rfc2109=False), Cookie(version=0, name='mda', value='0', port=None, port_specified=False, domain='.yandex.ru', domain_specified=True, domain_initial_dot=True, path='/', path_specified=True, secure=False, expires=1612290713, discard=False, comment=None, comment_url=None, rest={}, rfc2109=False), Cookie(version=0, name='yandex_gid', value='10514', port=None, port_specified=False, domain='.yandex.ru', domain_specified=True, domain_initial_dot=True, path='/', path_specified=True, secure=False, expires=1604514713, discard=False, comment=None, comment_url=None, rest={}, rfc2109=False), Cookie(version=0, name='yandexuid', value='1970249511601922713', port=None, port_specified=False, domain='.yandex.ru', domain_specified=True, domain_initial_dot=True, path='/', path_specified=True, secure=True, expires=1664994713, discard=False, comment=None, comment_url=None, rest={}, rfc2109=False), Cookie(version=0, name='yp', value='1604514713.ygu.1', port=None, port_specified=False, domain='.yandex.ru', domain_specified=True, domain_initial_dot=True, path='/', path_specified=True, secure=False, expires=1664994713, discard=False, comment=None, comment_url=None, rest={}, rfc2109=False)]>"
      ]
     },
     "execution_count": 5,
     "metadata": {},
     "output_type": "execute_result"
    }
   ],
   "source": [
    "# посмотрим куки\n",
    "res.cookies"
   ]
  },
  {
   "cell_type": "code",
   "execution_count": 6,
   "metadata": {},
   "outputs": [
    {
     "data": {
      "text/plain": [
       "<Response [404]>"
      ]
     },
     "execution_count": 6,
     "metadata": {},
     "output_type": "execute_result"
    }
   ],
   "source": [
    "# получаем плохой статус\n",
    "bad_request = requests.get('https://yandex.ru/secret')\n",
    "bad_request"
   ]
  },
  {
   "cell_type": "code",
   "execution_count": 7,
   "metadata": {},
   "outputs": [
    {
     "data": {
      "text/plain": [
       "'<!DOCTYPE html><html class=\"i-ua_js_no i-ua_css_standart i-ua_browser_unknown i-ua_browser-engine_unknown i-ua_browser_desktop i-ua_platform_other\" lang=\"ru\"><head xmlns:og=\"http://ogp.me/ns#\"><meta http-equiv=Content-Type content=\"text/html;charset=UTF-8\"><meta http-equiv=\"X-UA-Compatible\" content=\"IE=edge\"><title>404</title><link rel=\"shortcut icon\" href=\"//yastatic.net/iconostasis/_/8lFaTHLDzmsEZz-5XaQg9iTWZGE.png\"><link rel=\"search\" href=\"//yandex.ru/opensearch.xml\" title=\"Яндекс\" type=\"application/opensearchdescription+xml\"><meta name=\"viewport\" content=\"width=device-width,minimum-scale=1,maximum-scale=1,initial-scale=1,user-scalable=no\"><meta property=\"og:title\" content=\"Яндекс\"><meta property=\"og:image\" content=\"https://yastatic.net/s3/home/logos/share/share-logo_ru.png\"><meta property=\"og:description\" content=\"Найдётся всё\"><meta property=\"og:url\" content=\"https://yandex.ru\"><meta property=\"og:type\" content=\"website\"><meta property=\"og:site_name\" content=\"Яндекс\"><meta property=\"og:locale\" content=\"ru_RU\"><script>window.home=window.home||{},home.loadManager=function(){var n={},o={};return{subscribe:function(t,e){var i=0,r=function(){++i===t.length&&setTimeout((function(){e()}),0)};\"object\"!=typeof t&&(t=[t]),t.forEach((function(t){o[t]?r():(n[t]||(n[t]=[]),n[t].push(r))}))},trigger:function(t){if(!o[t]&&(o[t]=!0,n[t])){for(var e=0,i=n[t].length;e<i;e++)n[t][e]();n[t]=[]}}}}();</script><link rel=\"stylesheet\" href=\"//yastatic.net/s3/home-static/_/Z/8/4640g02QuabjFn-ugMS3Y_6MM.css\"><script>function Detector(){\"use strict\";var e=document.documentElement;return{isPlaceholderSupported:function(){return\"placeholder\"in document.createElement(\"input\")},getCSS3TransformProperty:function(){for(var e=document.documentElement.style,t=[\"transform\",\"MozTransform\",\"MsTransform\",\"msTransform\",\"WebkitTransform\",\"OTransform\"],n=\"\",i=0,r=t.length;i<r;++i)if(e[t[i]]!==undefined){n=t[i];break}return this.getCSS3TransformProperty=function(){return n},n},checkDataURLSupport:function(e){var t=new Image;t.onload=t.onerror=function(){e(1===this.width&&1===this.height)},t.src=\"data:image/gif;base64,R0lGODlhAQABAIAAAAAAAP///ywAAAAAAQABAAACAUwAOw==\"},isActivexEnabled:function(){var e=!1;try{e=!!new window.ActiveXObject(\"htmlfile\")}catch(t){e=!1}return e},isWin64:function(){return window.navigator&&\"Win64\"===window.navigator.platform},isFullScreen:function(){return window.innerWidth&&window.screen&&window.screen.width&&window.screen.height&&window.innerHeight&&window.innerWidth===screen.width&&window.innerHeight===screen.height},isIEMetroMode:function(){return this.isFullScreen()&&this.isWin64()&&!this.isActivexEnabled()},isSVGSupported:function(){if(\"opera\"in window)return!1;var e=document.createElement(\"svg\");return e.innerHTML=\"<svg/>\",e.firstChild&&\"http://www.w3.org/2000/svg\"===e.firstChild.namespaceURI},isAnimationSupported:function(){if(\"opera\"in window)return!1;for(var e=document.documentElement.style,t=[\"animationName\",\"webkitAnimationName\"],n=0,i=t.length;n<i;n++)if(e[t[n]]!==undefined)return!0},getUserFontSize:function(){var t,n,i=[],r=\"i-ua_user-font-size_\",o=document.createElement(\"div\");return o.style.height=\"1em\",e.appendChild(o),t=parseInt(o.offsetHeight),e.removeChild(o),n=16===t?\"normal\":t<16?\"small\":\"large\",i.push(r+n),i.push(r+t+\"px\"),i.join(\" \")},isRetina:function(){return(\"devicePixelRatio\"in window?window.devicePixelRatio:1)>=1.25}}}function MyMap(){this.rules={},this.rulesData=[]}MyMap.prototype={add:function(e){return(e=e||null)&&!this.rules[e]&&(this.rulesData.push(e),this.rules[e]=this.rulesData.length-1),this},get:function(e){var t=this.rules[e];return t&&this.rulesData[t]||null},getAll:function(){return this.rulesData.join(\" \")}};var detector=new Detector;!function(){var e,t=new MyMap;t.add(\"js\").add(\"i-ua_placeholder_\"+(detector.isPlaceholderSupported()?\"yes\":\"no\")).add(detector.isIEMetroMode()&&\"m-ie10-metro\").add(detector.isSVGSupported()?\"i-ua_inlinesvg_yes m-svg\":\"i-ua_inlinesvg_no no-data-url\").add(detector.isAnimationSupported()&&\"i-ua_animation_yes\").add(this.device&&\"m-touch\").add(detector.getUserFontSize()).add(\"i-ua_retina_\"+(detector.isRetina()?\"yes\":\"no\")),detector.checkDataURLSupport((function(e){e||(document.documentElement.className+=\" no-data-url\")})),this.document&&this.document.documentElement&&((e=this.document.documentElement).className=e.className.replace(\"i-ua_js_no\",\"i-ua_js_yes\")+\" \"+t.getAll())}();</script></head><body class=\"b-page\"><div class=\"layout\"><div class=\"layout__line layout__line_top\"><a class=\"home-link logo logo_ru\" href=\"//yandex.ru/\" data-statlog=\"logo\" data-statlog-showed=\"1\"></a><form class=\"search2 mini-suggest mini-suggest_search_yes mini-suggest_personal_yes mini-suggest_theme_flat mini-suggest_tab-change_yes mini-suggest_request_xhr mini-suggest_separate-popup_yes mini-suggest_autofocus_yes mini-suggest_direct_yes mini-suggest_a11y_yes i-bem\" action=\"//yandex.ru/search/\" role=\"search\" aria-label=\"Поиск в интернете\" data-bem=\"{}\"  data-mini-bem=\"{&quot;mini-suggest&quot;:{&quot;url&quot;:&quot;//yandex.ru/suggest/suggest-ya.cgi?srv=morda_ru_desktop&amp;wiz=TrWth&amp;uil=ru&amp;fact=1&amp;v=4&amp;icon=1&amp;lr=213&amp;hl=1&amp;bemjson=0&amp;html=1&amp;platform=desktop&amp;rich_nav=1&amp;show_experiment=222&amp;show_experiment=224&amp;verified_nav=1&amp;rich_phone=1&amp;a=0&quot;,&quot;deleteUrl&quot;:&quot;//yandex.ru/suggest-delete-text?srv=morda_ru_desktop&amp;text_to_delete=&quot;,&quot;counter&quot;:{&quot;service&quot;:&quot;morda_ru_desktop&quot;,&quot;url&quot;:&quot;//yandex.ru/clck/jclck&quot;,&quot;timeout&quot;:300,&quot;params&quot;:{&quot;dtype&quot;:&quot;stred&quot;,&quot;pid&quot;:&quot;0&quot;,&quot;cid&quot;:&quot;2873&quot;,&quot;lr&quot;:&quot;213&quot;},&quot;reqidInCookie&quot;:null,&quot;src&quot;:false},&quot;clickHost&quot;:&quot;//yandex.ru/clck&quot;,&quot;navSource&quot;:&quot;/&quot;,&quot;a11y&quot;:{&quot;nav&quot;:&quot;внешняя ссылка&quot;},&quot;direct&quot;:{&quot;label&quot;:&quot;реклама&quot;,&quot;counter_delay&quot;:5000,&quot;ad_counter&quot;:&quot;suggest.direct&quot;,&quot;delay_counters&quot;:{&quot;found&quot;:&quot;suggest.direct_delay_start&quot;,&quot;shown&quot;:&quot;suggest.direct_delayed_show&quot;}}}}\"><input type=\"hidden\" name=\"msid\" value=\"1601922753.96762.98264.4147\"/><div class=\"search2__input\"><span class=\"input input_size_ws-head input_theme_websearch input_search2-clear-hide_yes input_ahead_yes input_autofocus_capture input_keyboard_yes input_clear_yes i-bem\" data-bem=\"{&quot;input&quot;:{&quot;live&quot;:false,&quot;autoFocus&quot;:true}}\"><span class=\"input__box\"><span class=\"input__clear mini-suggest__input-clear\" unselectable=\"on\">&nbsp;</span><div class=\"keyboard-loader input__keyboard-button i-bem b-opacity b-opacity-hold-ie keyboard-loader_lang_ru\" data-bem=\"{&quot;keyboard-loader&quot;:{&quot;name&quot;:&quot;keyboard-loader&quot;,&quot;statOpen&quot;:&quot;keyboard.open&quot;,&quot;statClose&quot;:&quot;keyboard.close&quot;}}\"><i class=\"b-icon  keyboard-loader__icon b-ico-kbd\"></i></div><input class=\"input__control input__input mini-suggest__input\" tabindex=\"2\" autocomplete=\"off\" autocorrect=\"off\" autocapitalize=\"off\" spellcheck=\"false\" aria-autocomplete=\"list\" aria-label=\"Запрос\" id=\"text\" maxlength=\"400\" name=\"text\"/></span></span></div><div class=\"search2__button\"><button class=\"button mini-suggest__button button_theme_websearch button_size_ws-head i-bem\" data-bem=\"{&quot;button&quot;:{}}\" tabindex=\"-1\" role=\"button\" type=\"submit\"><span class=\"button__text\">Найти</span></button></div></form></div><div class=\"layout__line layout__line_banner\"><div class=\"layout__cell layout__content\"><h1 class=\"content__title\">Ошибка 404. Нет такой страницы</h1><div>Если вы считаете, что страницы нет по нашей вине, <a class=\"home-link home-link_blue_yes\" href=\"//yandex.ru/support/not-found/?form1969-url404=http%3A%2F%2Fyandex.ru%2Fsecret&form1969-fromurl404=\" data-statlog=\"contactUs\" data-statlog-showed=\"1\">напишите нам</a>.</div><style>.services__icon_market{background-image: url(//yastatic.net/s3/home/services/all/svg/market_new.svg);}.services__icon_autoru{background-image: url(//yastatic.net/s3/home/services/all/svg/autoru0.svg);}.services__icon_images{background-image: url(//yastatic.net/s3/home/services/all/svg/images0.svg);}.services__icon_avia{background-image: url(//yastatic.net/s3/home/services/all/svg/avia0.svg);}.services__icon_video{background-image: url(//yastatic.net/s3/home/services/all/svg/video0.svg);}</style><div class=\"services\" aria-label=\"Посещаемое\" role=\"complementary\"><ul class=\"services__col\"><li class=\"services__main-item\"><span class=\" services__icon services__icon_market\"></span><a class=\"home-link  services__title-link\" href=\"https://market.yandex.ru/?clid=568&utm_source=face_title&utm_medium=cpc&utm_campaign=ft_desktop_smartphone_xiaomi_all\" data-statlog=\"sites.market.title(id=f_desktop_smartphone_xiaomi_all)\" data-statlog-showed=\"1\">Маркет</a><span aria-hidden=\"true\">&nbsp;—&nbsp;</span><a class=\"home-link  home-link_black_yes\" href=\"https://market.yandex.ru/catalog--mobilnye-telefony/54726/list?hid=91491&glfilter=7893318%3A7701962&clid=514&utm_source=face&utm_medium=cpc&utm_campaign=f_desktop_smartphone_xiaomi_all\" data-statlog=\"sites.market.subtitle(id=f_desktop_smartphone_xiaomi_all)\" data-statlog-showed=\"1\">смартфоны Xiaomi</a></li><li class=\"services__main-item\"><span class=\" services__icon services__icon_autoru\"></span><a class=\"home-link  services__title-link\" href=\"https://auto.ru/?from=morda&utm_source=yandex_list_service&utm_medium=cpm&utm_campaign=yls_r10000_title&utm_content=wrdwrd-16331_r10000&utm_term=svegie-predlogeniya_wrdwrd-16331\" data-statlog=\"sites.autoru.title(id=wrdwrd-16331_r10000)\" data-statlog-showed=\"1\">Авто.ру</a><span aria-hidden=\"true\">&nbsp;—&nbsp;</span><a class=\"home-link  home-link_black_yes\" href=\"https://auto.ru/cars/all/?from=morda&utm_source=yandex_list_service&utm_medium=cpm&utm_campaign=yls_r10000_subtitle&utm_content=wrdwrd-16331_r10000&utm_term=svegie-predlogeniya_wrdwrd-16331\" data-statlog=\"sites.autoru.subtitle(id=wrdwrd-16331_r10000)\" data-statlog-showed=\"1\">свежие предложения</a></li><li class=\"services__main-item\"><span class=\" services__icon services__icon_images\"></span><a class=\"home-link  services__title-link\" href=\"//yandex.ru/images/\" data-statlog=\"sites.images.title(id=images_spring)\" data-statlog-showed=\"1\">Картинки</a><span aria-hidden=\"true\">&nbsp;—&nbsp;</span><a class=\"home-link  home-link_black_yes\" href=\"https://yandex.ru/images/search?text=%D0%B2%D0%B5%D1%81%D0%B5%D0%BD%D0%BD%D0%B8%D0%B5%20%D0%BF%D0%B5%D0%B9%D0%B7%D0%B0%D0%B6%D0%B8&source=images_spring\" data-statlog=\"sites.images.subtitle(id=images_spring)\" data-statlog-showed=\"1\">весенние пейзажи</a></li></ul><ul class=\"services__col\"><li class=\"services__main-item\"><span class=\" services__icon services__icon_avia\"></span><a class=\"home-link  services__title-link\" href=\"https://travel.yandex.ru/avia/?utm_source=yamain&utm_medium=service-list&utm_campaign=general_ru_desktop_no_all&utm_content=avia_ru-all_ru_text4\" data-statlog=\"sites.avia.title(id=avia_ru-all_ru_text4)\" data-statlog-showed=\"1\">Авиабилеты</a><span aria-hidden=\"true\">&nbsp;—&nbsp;</span><a class=\"home-link  home-link_black_yes\" href=\"https://travel.yandex.ru/avia/?utm_source=yamain&utm_medium=service-list&utm_campaign=general_ru_desktop_no_all&utm_content=avia_ru-all_ru_text4\" data-statlog=\"sites.avia.subtitle(id=avia_ru-all_ru_text4)\" data-statlog-showed=\"1\">дешёвые перелёты</a></li><li class=\"services__main-item\"><span class=\" services__icon services__icon_video\"></span><a class=\"home-link  services__title-link\" href=\"//yandex.ru/video\" data-statlog=\"sites.video.title(id=sign_video_2_mult)\" data-statlog-showed=\"1\">Видео</a><span aria-hidden=\"true\">&nbsp;—&nbsp;</span><a class=\"home-link  home-link_black_yes\" href=\"//yandex.ru/video/search?text=%D0%BC%D1%83%D0%BB%D1%8C%D1%82%D0%B8%D0%BA%D0%B8&safety=1\" data-statlog=\"sites.video.subtitle(id=sign_video_2_mult)\" data-statlog-showed=\"1\">мультики для малышей</a></li></ul></div><div class=\"content__punto\"></div></div><div class=\"layout__cell layout__banner\"><script src=\"//awaps.yandex.ru/0/s01a92305p1v6/jsonlib.js\" crossorigin=\"anonymous\"></script><div class=\"banner\" id=\"ad_div\"  data-statlog=\"banners\" data-statlog-showed=\"1\" data-statlog-redir=\"0\"></div><script>if (window.AwapsJsonAPI) { var aw_json = new AwapsJsonAPI.Json({ section: 8980, width: 336, height: 280 }); aw_json.setID(\\'ad_div\\'); aw_json.refreshAd(); }</script></div><div class=\"layout__cell layout__rtb\"><div class=\"rtb rtb_dummy i-bem\" data-statlog=\"rtb.content\" id=\"rtb\" data-bem=\"{&quot;rtb&quot;:{&quot;rtbId&quot;:&quot;R-I-475356-1&quot;,&quot;nonce&quot;:&quot;&quot;,&quot;pcodever&quot;:&quot;12330&quot;,&quot;contextUrl&quot;:&quot;https://an.yandex.ru/system/context.js&quot;}}\"></div></div></div></div><div class=\"foot\"><a class=\"home-link foot__link\" href=\"https://yandex.ru/company/\" data-statlog=\"company\" data-statlog-showed=\"1\">Компания</a><a class=\"home-link foot__link\" href=\"//yandex.com/company/\" data-statlog=\"about\" data-statlog-showed=\"1\">About</a>&copy;&nbsp;<a class=\"home-link foot__link\" href=\"//yandex.ru/\" data-statlog=\"yandex\" data-statlog-showed=\"1\">Яндекс</a></div><script>window.home=window.home||{};window.home[\\'export\\']=JSON.parse(\"{\\\\\"common\\\\\":{\\\\\"click-href\\\\\":\\\\\"https://yandex.ru/clck/\\\\\"},\\\\\"statlog\\\\\":{\\\\\"config\\\\\":{\\\\\"statRoot\\\\\":\\\\\"error404.desktop\\\\\",\\\\\"showId\\\\\":\\\\\"1601922753.96762.98264.4147\\\\\",\\\\\"enabled\\\\\":true,\\\\\"redirHost\\\\\":\\\\\"https://yandex.ru/clck/\\\\\",\\\\\"clckDemonHost\\\\\":\\\\\"https://yandex.ru/clck/\\\\\",\\\\\"useBeacon\\\\\":0,\\\\\"delayedOneTimer\\\\\":false}},\\\\\"bundles\\\\\":{\\\\\"data\\\\\":{\\\\\"jsSuffix\\\\\":\\\\\"\\\\\",\\\\\"cssSuffix\\\\\":\\\\\"\\\\\",\\\\\"host\\\\\":\\\\\"//yastatic.net\\\\\",\\\\\"root\\\\\":\\\\\"//yastatic.net/s3/home-static/2020-10-02-1/white/pages\\\\\",\\\\\"page\\\\\":\\\\\"\\\\\",\\\\\"locale\\\\\":\\\\\"ru\\\\\"}}}\");home.dataCallbacks&&home.dataCallbacks.forEach(function(callback){callback();});</script><script src=\"//yastatic.net/jquery/1.8.3/jquery.min.js\" crossorigin=\"anonymous\"></script><script src=\"//yastatic.net/s3/home-static/_/j/o/gxgb13WiNjaEJDgejThSZzrcs.js\" crossorigin=\"anonymous\"></script><script>BEM.DOM.scope=$(\\'body\\');Lego.init({\"locale\":\"ru\",\"lang\":\"ru\",\"lang-zone\":\"ru\",\"statRoot\":\"error404.desktop\",\"statEnabled\":true,\"msid\":\"1601922753.96762.98264.4147\",\"lego-static-host\":\"//yastatic.net/lego/2.10-169/\",\"keyboard-path\":\"//yastatic.net/s3/home-static/2020-10-02-1/common/blocks/\",\"click-host\":\"//yandex.ru/clck\",\"reqid\":\"1601922753.96762.98264.4147\"});BEM.channel(\\'i-bem\\').trigger(\\'start-init\\');BEM.DOM.init(function() {BEM.channel(\\'i-bem\\').trigger(\\'init\\');});</script><script>getcss(\\'//yastatic.net/s3/home-static/_/2/j/mj7l5rSw0yVb_vlWAYkK_YBwk.css\\');</script><noscript><link type=\"text/css\" rel=\"stylesheet\" href=\"//yastatic.net/s3/home-static/_/2/j/mj7l5rSw0yVb_vlWAYkK_YBwk.css\"></noscript><script src=\"https://mc.yandex.ru/metrika/watch.js\"  type=\"text/javascript\"></script><script type=\"text/javascript\">!function(t){\"use strict\";try{var e=[{\"id\":46686441,\"accurateTrackBounce\":10000,\"trackLinks\":true}];t.metrikaCounterInstances={};for(var r=0;r<e.length;r++){var a=e[r],n=t[\"yaCounter\"+a.id]=new Ya.Metrika(a);r||(t.defaultMetrikaCounter=n),t.metrikaCounterInstances[a.id]=n}}catch(i){}}(window);</script><noscript><img class=\"image a11y-hidden\" src=\"https://mc.yandex.ru/watch/46686441\"/></noscript><!--noindex--><div style=\"display:none\" data-nosnippet class=\"page-info\">{&quot;static&quot;:&quot;2020-10-02-1&quot;,&quot;domain&quot;:&quot;ru&quot;}</div><!--/noindex--></body></html>'"
      ]
     },
     "execution_count": 7,
     "metadata": {},
     "output_type": "execute_result"
    }
   ],
   "source": [
    "bad_request.text"
   ]
  },
  {
   "cell_type": "code",
   "execution_count": 8,
   "metadata": {},
   "outputs": [
    {
     "data": {
      "text/plain": [
       "<Response [403]>"
      ]
     },
     "execution_count": 8,
     "metadata": {},
     "output_type": "execute_result"
    }
   ],
   "source": [
    "# попроуем сделать post запрос\n",
    "post_req = requests.post('https://yandex.ru')\n",
    "post_req"
   ]
  },
  {
   "cell_type": "code",
   "execution_count": 9,
   "metadata": {},
   "outputs": [],
   "source": [
    "# cформируем поисковый запрос, обратите внимание на его формат\n",
    "URL = 'https://yandex.ru/search/?text=python&lr=54'"
   ]
  },
  {
   "cell_type": "code",
   "execution_count": 10,
   "metadata": {},
   "outputs": [
    {
     "data": {
      "text/plain": [
       "<Response [200]>"
      ]
     },
     "execution_count": 10,
     "metadata": {},
     "output_type": "execute_result"
    }
   ],
   "source": [
    "req = requests.get(URL)\n",
    "req"
   ]
  },
  {
   "cell_type": "code",
   "execution_count": 11,
   "metadata": {},
   "outputs": [
    {
     "data": {
      "text/plain": [
       "'<!DOCTYPE html><html class=\"i-ua_js_no i-ua_css_standard\" prefix=\"og: http://ogp.me/ns#\" lang=\"ru\"><head><meta charset=\"utf-8\"/><meta http-equiv=\"X-UA-Compatible\" content=\"IE=edge\"/><title>Ð\\x9eÐ¹!</title><script>;(function(d,e,c,r){e=d.documentElement;c=\"className\";r=\"replace\";e[c]=e[c][r](\"i-ua_js_no\",\"i-ua_js_yes\");if(d.compatMode!=\"CSS1Compat\")e[c]=e[c][r](\"i-ua_css_standart\",\"i-ua_css_quirks\")})(document);;(function(d,e,c,n,w,v,f){e=d.documentElement;c=\"className\";n=\"createElementNS\";f=\"firstChild\";w=\"http://www.w3.org/2000/svg\";e[c]+=\" i-ua_svg_\"+(!!d[n]&&!!d[n](w,\"svg\").createSVGRect?\"yes\":\"no\");v=d.createElement(\"div\");v.innerHTML=\"<svg/>\";e[c]+=\" i-ua_inlinesvg_\"+((v[f]&&v[f].namespaceURI)==w?\"yes\":\"no\");})(document);</script><meta property=\"og:image\" content=\"https://yastatic.net/s3/home/logos/share/share-logo-ru.png\"/><meta property=\"og:title\" content=\"Ð¯Ð½Ð´ÐµÐºÑ\\x81\"/><meta property=\"og:description\" content=\"Ð\\x9dÐ°Ð¹Ð´Ñ\\x91Ñ\\x82Ñ\\x81Ñ\\x8f Ð²Ñ\\x81Ñ\\x91\"/><script src=\"captcha.error-counter.js?rnd=885349437167\" id=\"error-counter\" data-reqid=\"1601922762716070-5853435037281194042\"></script><!--[if gt IE 8]><!--><link rel=\"stylesheet\" href=\"captcha.min.css?rnd=885349437167\"/><!--<![endif]--><meta name=\"viewport\" content=\"width=device-width, initial-scale=1\"/></head><body class=\"b-page b-page_service_default b-page__body i-ua i-global i-bem\" data-bem=\\'{\"i-ua\":{},\"i-global\":{\"lang\":\"ru\",\"tld\":\"ru\",\"content-region\":\"ru\",\"click-host\":\"//clck.yandex.ru\",\"passport-host\":\"https://passport.yandex.ru\",\"pass-host\":\"https://pass.yandex.ru\",\"social-host\":\"https://social.yandex.ru\",\"export-host\":\"https://export.yandex.ru\",\"login\":\"\",\"lego-static-host\":\"https://yastatic.net/lego/2.10-142\"}}\\'><div class=\"central\"><div class=\"logo-wrapper\"><a class=\"logo-wrapper__logo logo-wrapper__logo_name_default\" href=\"https://www.yandex.ru\" title=\"Ð¯Ð½Ð´ÐµÐºÑ\\x81\"></a></div><p class=\"text-wrapper text-wrapper_info\">Ð\\x9dÐ°Ð¼ Ð¾Ñ\\x87ÐµÐ½Ñ\\x8c Ð¶Ð°Ð»Ñ\\x8c, Ð½Ð¾ Ð·Ð°Ð¿Ñ\\x80Ð¾Ñ\\x81Ñ\\x8b, Ð¿Ð¾Ñ\\x81Ñ\\x82Ñ\\x83Ð¿Ð¸Ð²Ñ\\x88Ð¸Ðµ Ñ\\x81 Ð²Ð°Ñ\\x88ÐµÐ³Ð¾ IP-Ð°Ð´Ñ\\x80ÐµÑ\\x81Ð°, Ð¿Ð¾Ñ\\x85Ð¾Ð¶Ð¸ Ð½Ð° Ð°Ð²Ñ\\x82Ð¾Ð¼Ð°Ñ\\x82Ð¸Ñ\\x87ÐµÑ\\x81ÐºÐ¸Ðµ.</p><form class=\"form form_error_no\" method=\"get\" action=\"/checkcaptcha\" onsubmit=\"ym(10630330, \\'reachGoal\\', \\'enter_captcha_value\\', { \\'req_id\\': \\'1601922762716070-5853435037281194042\\' }); return true;\"><input class=\"form__key\" type=\"hidden\" name=\"key\" value=\"00AWbjX4Dv9A9RvcuD6vJtLtwR2nj1aA_0/1601922762/1c833b43be3aa4cc20317ed437063639_591ffb8ada4fded48a0021c98545d786\"/><input class=\"form__retpath\" type=\"hidden\" name=\"retpath\" value=\"https://yandex.ru/search?text=python&amp;lr=54_3ee3b7057973b0e8aae3dced6e21f1b1\"/><div class=\"captcha-wrapper\"><div class=\"captcha i-bem\" data-bem=\\'{\"captcha\":{\"captchaSound\":\"https://yandex.ru/captcha/voice?aHR0cHM6Ly9leHQuY2FwdGNoYS55YW5kZXgubmV0L3ZvaWNlP2tleT0wMEFXYmpYNER2OUE5UnZjdUQ2dkp0THR3UjJuajFhQQ,,_0/1601922762/1c833b43be3aa4cc20317ed437063639_4890e8a516933da6fcaaa21d07a33c6c\",\"introSound\":\"https://yandex.ru/captcha/voiceintro?aHR0cHM6Ly9leHQuY2FwdGNoYS55YW5kZXgubmV0L3N0YXRpYy9pbnRyby1ydS5tcDM,_0/1601922762/1c833b43be3aa4cc20317ed437063639_67472c17777e4b37abb4f2a553b35b20\"}}\\'><div class=\"captcha__image\"><img src=\"https://yandex.ru/captchaimg?aHR0cHM6Ly9leHQuY2FwdGNoYS55YW5kZXgubmV0L2ltYWdlP2tleT0wMEFXYmpYNER2OUE5UnZjdUQ2dkp0THR3UjJuajFhQSZzZXJ2aWNlPXdlYg,,_0/1601922762/1c833b43be3aa4cc20317ed437063639_7413893dc430aa128be691ae3e8a5ffa\"/></div><div class=\"captcha__play-button\"><div class=\"captcha__play\"><div class=\"captcha__play-image\"></div><div class=\"captcha__play-text\">Ð\\x9fÑ\\x80Ð¾Ð¸Ð·Ð½ÐµÑ\\x81Ñ\\x82Ð¸</div><div class=\"captcha__playing-text\">Ð\\x92Ð¾Ñ\\x81Ð¿Ñ\\x80Ð¾Ð¸Ð·Ð²Ð¾Ð´Ð¸Ñ\\x82Ñ\\x81Ñ\\x8f</div></div></div></div></div><div class=\"actions i-bem\" data-bem=\\'{\"actions\":{}}\\'><div class=\"actions__action-button actions__button actions__button_action_refresh\"><div class=\"actions__button-image\"></div><div>Ð\\x94Ñ\\x80Ñ\\x83Ð³Ð¾Ð¹ ÐºÐ¾Ð´</div></div><div class=\"actions__action-button actions__button actions__button_action_audio\"><div class=\"actions__button-image\"></div><div>Ð\\x90Ñ\\x83Ð´Ð¸Ð¾</div></div><div class=\"actions__action-button actions__button actions__button_action_text\"><div class=\"actions__button-image\"></div><div>Ð\\x98Ð·Ð¾Ð±Ñ\\x80Ð°Ð¶ÐµÐ½Ð¸Ðµ</div></div></div><div class=\"input-wrapper input-wrapper_focused i-bem\" data-bem=\\'{\"input-wrapper\":{}}\\'><div class=\"input-wrapper__input-field\"><input class=\"input-wrapper__content\" name=\"rep\" autofocus=\"yes\" autocomplete=\"off\"/><div class=\"input-wrapper__placeholder\">Ð\\x92Ð²ÐµÐ´Ð¸Ñ\\x82Ðµ ÐºÐ¾Ð´</div></div><div class=\"input-wrapper__wrong-text\">Ð\\x9dÐµÐ²ÐµÑ\\x80Ð½Ð¾, Ð¿Ð¾Ð¿Ñ\\x80Ð¾Ð±Ñ\\x83Ð¹Ñ\\x82Ðµ ÐµÑ\\x89Ðµ Ñ\\x80Ð°Ð·</div><div class=\"input-wrapper__input-info input-wrapper__input-info_maxwidth_yes\">Ð\\xadÑ\\x82Ð¾ Ð¿Ð¾Ð»ÐµÐ·Ð½Ð°Ñ\\x8f ÐºÐ°Ð¿Ñ\\x87Ð°. Ð\\x9aÐ¾ Ð\\x94Ð½Ñ\\x8e Ñ\\x83Ñ\\x87Ð¸Ñ\\x82ÐµÐ»Ñ\\x8f Ð¼Ñ\\x8b <a href=\"https://milab.s3.yandex.net/2020/misspell/misspell.png\" target=\"_blank\" class=\"link\">Ñ\\x81Ð¾Ð±Ñ\\x80Ð°Ð»Ð¸ Ñ\\x81Ð»Ð¾Ð²Ð°</a> Ð¸Ð· Ð·Ð°Ð¿Ñ\\x80Ð¾Ñ\\x81Ð¾Ð², Ð² ÐºÐ¾Ñ\\x82Ð¾Ñ\\x80Ñ\\x8bÑ\\x85 Ñ\\x87Ð°Ñ\\x81Ñ\\x82Ð¾ Ð¾Ñ\\x88Ð¸Ð±Ð°Ñ\\x8eÑ\\x82Ñ\\x81Ñ\\x8f. Ð\\x9cÐ¾Ð¶ÐµÑ\\x82Ðµ Ð¿Ð¾Ñ\\x82Ñ\\x80ÐµÐ½Ð¸Ñ\\x80Ð¾Ð²Ð°Ñ\\x82Ñ\\x8cÑ\\x81Ñ\\x8f!</div></div><button class=\"submit\">Ð\\x9eÑ\\x82Ð¿Ñ\\x80Ð°Ð²Ð¸Ñ\\x82Ñ\\x8c Ð¸ Ð¿Ñ\\x80Ð¾Ð´Ð¾Ð»Ð¶Ð¸Ñ\\x82Ñ\\x8c</button></form><div class=\"text-wrapper text-wrapper_help\"><span>Ð\\x95Ñ\\x81Ð»Ð¸ Ñ\\x83 Ð²Ð°Ñ\\x81 Ð²Ð¾Ð·Ð½Ð¸ÐºÐ»Ð¸ Ð¿Ñ\\x80Ð¾Ð±Ð»ÐµÐ¼Ñ\\x8b, Ð¿Ð¾Ð¶Ð°Ð»Ñ\\x83Ð¹Ñ\\x81Ñ\\x82Ð°, Ð²Ð¾Ñ\\x81Ð¿Ð¾Ð»Ñ\\x8cÐ·Ñ\\x83Ð¹Ñ\\x82ÐµÑ\\x81Ñ\\x8c </span><a class=\"link i-bem\" tabindex=\"0\" href=\"https://yandex.ru/support/captcha/\" onclick=\"ym(10630330, \\'reachGoal\\', \\'support_complain\\', { \\'req_id\\': \\'1601922762716070-5853435037281194042\\' }); return true;\" data-bem=\\'{\"link\":{}}\\'>Ñ\\x84Ð¾Ñ\\x80Ð¼Ð¾Ð¹ Ð¾Ð±Ñ\\x80Ð°Ñ\\x82Ð½Ð¾Ð¹ Ñ\\x81Ð²Ñ\\x8fÐ·Ð¸.</a></div></div><!--[if gt IE 8]><!--><script src=\"https://yastatic.net/jquery/2.2.3/jquery.min.js\"></script><!--<![endif]--><script src=\"captcha.min.js?rnd=885349437167\" id=\"main-script\" data-verochka-params=\"{&quot;req_id&quot;: &quot;1601922762716070-5853435037281194042&quot;, &quot;service&quot;: &quot;web&quot;}\"></script><script src=\"https://yastatic.net/howler/2.0.0/howler.min.js\"></script>\\n<!-- Yandex.Metrika counter -->\\n<script type=\"text/javascript\" >\\n   (function(m,e,t,r,i,k,a){m[i]=m[i]||function(){(m[i].a=m[i].a||[]).push(arguments)};\\n   m[i].l=1*new Date();k=e.createElement(t),a=e.getElementsByTagName(t)[0],k.async=1,k.src=r,a.parentNode.insertBefore(k,a)})\\n   (window, document, \"script\", \"https://mc.yandex.ru/metrika/tag.js\", \"ym\");\\n\\n   ym(10630330, \"init\", {\\n        clickmap:true,\\n        trackLinks:true,\\n        accurateTrackBounce:true,\\n        webvisor:true,\\n        ut:\"noindex\",\\n        params:{ \"service\": \"web\", \"req_id\": \"1601922762716070-5853435037281194042\", \"ident_type\": \"1\" }\\n   });\\n</script>\\n<noscript><div><img src=\"https://mc.yandex.ru/watch/10630330?ut=noindex\" style=\"position:absolute; left:-9999px;\" alt=\"\" /></div></noscript>\\n<!-- /Yandex.Metrika counter -->\\n</body></html>'"
      ]
     },
     "execution_count": 11,
     "metadata": {},
     "output_type": "execute_result"
    }
   ],
   "source": [
    "req.text"
   ]
  },
  {
   "cell_type": "code",
   "execution_count": null,
   "metadata": {},
   "outputs": [],
   "source": [
    "# в request можно передать параметры запроса и заголовки (headers) в виде словарей. \n",
    "# сегодня не будем рассматривать примеры с необхожимостью передачи заголовка, \n",
    "# но в практике вам это точно понадобится\n",
    "URL = 'https://yandex.ru/search/'\n",
    "params = {\n",
    "    'text': 'python',\n",
    "    'lr': 54\n",
    "}\n",
    "headers = {}\n",
    "req = requests.get(URL, params)\n",
    "req = requests.post(URL, params, headers)\n",
    "req.text"
   ]
  },
  {
   "cell_type": "code",
   "execution_count": null,
   "metadata": {},
   "outputs": [],
   "source": []
  },
  {
   "cell_type": "code",
   "execution_count": null,
   "metadata": {},
   "outputs": [],
   "source": [
    "# очень часто сайты могут ограничивать частые запросы к себе, \n",
    "# поэтому нужно задерживать исполнение\n",
    "import time\n",
    "time.sleep(0.2)"
   ]
  },
  {
   "cell_type": "markdown",
   "metadata": {},
   "source": [
    "# Beautiful Soup"
   ]
  },
  {
   "cell_type": "code",
   "execution_count": null,
   "metadata": {},
   "outputs": [],
   "source": [
    "# как разбирать всю эту разметку? Поможет BeautifulSoup.\n",
    "from bs4 import BeautifulSoup"
   ]
  },
  {
   "cell_type": "markdown",
   "metadata": {},
   "source": [
    "## Практика 1. Напишем скрипт, который будет отбирать посты из нужных хабов на habr.com"
   ]
  },
  {
   "cell_type": "code",
   "execution_count": null,
   "metadata": {},
   "outputs": [],
   "source": [
    "# определяем список хабов, которые нам интересны\n",
    "DESIRED_HUBS = ['python', 'bigdata']"
   ]
  },
  {
   "cell_type": "code",
   "execution_count": null,
   "metadata": {},
   "outputs": [],
   "source": [
    "# получаем страницу с самыми свежими постами\n",
    "req = requests.get('https://habr.com/ru/all/')\n",
    "soup = BeautifulSoup(req.text, 'html.parser')"
   ]
  },
  {
   "cell_type": "code",
   "execution_count": null,
   "metadata": {},
   "outputs": [],
   "source": [
    "# извлекаем посты\n",
    "posts = soup.find_all('article', class_='post')\n",
    "posts"
   ]
  },
  {
   "cell_type": "code",
   "execution_count": null,
   "metadata": {},
   "outputs": [],
   "source": [
    "for post in posts:\n",
    "    post_id = post.parent.attrs.get('id')\n",
    "   # если идентификатор не найден, это что-то странное, пропускаем\n",
    "    if not post_id:\n",
    "        continue\n",
    "    post_id = int(post_id.split('_')[-1])\n",
    "    print('post', post_id)\n",
    "    hubs = post.find_all('a', class_='hub-link')"
   ]
  },
  {
   "cell_type": "code",
   "execution_count": null,
   "metadata": {},
   "outputs": [],
   "source": [
    "# добавляем извлечение хабов из постов, чтобы отбирать только нужные\n",
    "for post in posts:\n",
    "    post_id = post.parent.attrs.get('id')\n",
    "   # если идентификатор не найден, это что-то странное, пропускаем\n",
    "    if not post_id:\n",
    "        continue\n",
    "    post_id = int(post_id.split('_')[-1])\n",
    "    hubs = post.find_all('a', class_='hub-link')\n",
    "    for hub in hubs:\n",
    "            hub_lower = hub.text.lower()\n",
    "           # ищем вхождение хотя бы одного желаемого хаба\n",
    "            if any([hub_lower in desired for desired in DESIRED_HUBS]):\n",
    "               # пост нам интересен - делаем с ним все что захотим:\n",
    "               # можно отправит в телеграм уведомление, можно на почту и т.п.\n",
    "                title_element = post.find('a', class_='post__title_link')\n",
    "                print(title_element.text, title_element.attrs.get('href'))\n",
    "               # так как пост уже нам подошел - дальше нет смысла проверять хабы\n",
    "                break"
   ]
  },
  {
   "cell_type": "markdown",
   "metadata": {},
   "source": [
    "## Практика 2. Напишем скрипт, который будет собирать новости с сайта Коммерсанта"
   ]
  },
  {
   "cell_type": "code",
   "execution_count": null,
   "metadata": {},
   "outputs": [],
   "source": [
    "URL = 'https://www.kommersant.ru/search/results'\n",
    "params = {\n",
    "    'search_query': 'python'\n",
    "}"
   ]
  },
  {
   "cell_type": "code",
   "execution_count": null,
   "metadata": {},
   "outputs": [],
   "source": [
    "res = requests.get(URL, params)"
   ]
  },
  {
   "cell_type": "code",
   "execution_count": null,
   "metadata": {},
   "outputs": [],
   "source": [
    "res.text"
   ]
  },
  {
   "cell_type": "code",
   "execution_count": null,
   "metadata": {},
   "outputs": [],
   "source": [
    "soup = BeautifulSoup(res.text, 'html.parser')\n",
    "soup"
   ]
  },
  {
   "cell_type": "code",
   "execution_count": null,
   "metadata": {},
   "outputs": [],
   "source": [
    "# добираемся до блоков с новостями\n",
    "news_blocks = soup.find_all('div', class_='search_results_item')\n",
    "news_blocks"
   ]
  },
  {
   "cell_type": "code",
   "execution_count": null,
   "metadata": {},
   "outputs": [],
   "source": [
    "# добираемся до текста со ссылкой\n",
    "articles_intro = list(map(lambda x: x.find('div', class_='article_intro'), news_blocks))\n",
    "articles_intro"
   ]
  },
  {
   "cell_type": "code",
   "execution_count": null,
   "metadata": {},
   "outputs": [],
   "source": [
    "# добираемся до ссылок\n",
    "a_list = list(map(lambda x: x.find('a').get('href'), articles_intro))\n",
    "a_list"
   ]
  },
  {
   "cell_type": "code",
   "execution_count": null,
   "metadata": {},
   "outputs": [],
   "source": [
    "# формируем полноценные ссылки\n",
    "all_refs = list(map(lambda x: 'https://www.kommersant.ru/' + x, a_list))\n",
    "all_refs"
   ]
  },
  {
   "cell_type": "code",
   "execution_count": null,
   "metadata": {},
   "outputs": [],
   "source": [
    "# объединим все в одну функцию\n",
    "def get_all_links(url, query):\n",
    "    all_refs = []\n",
    "    params = {\n",
    "        'search_query': query,\n",
    "    }\n",
    "    res = requests.get(URL, params)\n",
    "    time.sleep(0.3)\n",
    "    soup = BeautifulSoup(res.text, 'html.parser')\n",
    "    news_blocks = soup.find_all('div', class_='search_results_item')\n",
    "    articles_intro = list(map(lambda x: x.find('div', class_='article_intro'), news_blocks))\n",
    "    a_list = list(map(lambda x: x.find('a').get('href'), articles_intro))\n",
    "    all_refs = list(map(lambda x: 'https://www.kommersant.ru/' + x, a_list))\n",
    "\n",
    "    return all_refs\n",
    "\n",
    "all_links = get_all_links(URL, 'python')\n",
    "all_links"
   ]
  },
  {
   "cell_type": "code",
   "execution_count": null,
   "metadata": {},
   "outputs": [],
   "source": [
    "# но мы же собрали только одну страницу? Хотим ВСЕ новости\n",
    "def get_all_links(url, query, pages):\n",
    "    all_refs = []\n",
    "    params = {\n",
    "        'search_query': query\n",
    "    }\n",
    "    for i in range(pages):\n",
    "        params['page'] = i + 1\n",
    "        res = requests.get(URL, params)\n",
    "        time.sleep(0.3)\n",
    "        soup = BeautifulSoup(res.text, 'html.parser')\n",
    "        news_blocks = soup.find_all('div', class_='search_results_item')\n",
    "        articles_intro = list(map(lambda x: x.find('div', class_='article_intro'), news_blocks))\n",
    "        a_list = list(map(lambda x: x.find('a').get('href'), articles_intro))\n",
    "        all_refs += list(map(lambda x: 'https://www.kommersant.ru/' + x, a_list))\n",
    "    return all_refs\n",
    "\n",
    "all_links = get_all_links(URL, 'python', 3)\n",
    "all_links"
   ]
  },
  {
   "cell_type": "code",
   "execution_count": null,
   "metadata": {},
   "outputs": [],
   "source": [
    "import pandas as pd"
   ]
  },
  {
   "cell_type": "code",
   "execution_count": null,
   "metadata": {},
   "outputs": [],
   "source": [
    "# собираем даты, заголовки и тексты новостей\n",
    "# получаем ошибочку. Значит не у всех получаемых страниц одинаковая разметка\n",
    "for link in all_links:\n",
    "    soup = BeautifulSoup(requests.get(link).text, 'html.parser')\n",
    "    time.sleep(0.3)\n",
    "    date = pd.to_datetime(soup.find('time', class_='title__cake').get('datetime'), dayfirst=True).date()\n",
    "    print(date)\n",
    "    title = soup.find('h1', class_='article_name').text\n",
    "    print(title)\n",
    "    text = soup.find('div', class_='article_text_wrapper').text\n",
    "    print(text)"
   ]
  },
  {
   "cell_type": "code",
   "execution_count": null,
   "metadata": {},
   "outputs": [],
   "source": [
    "# получаем ошибочку. Значит не у всех получаемых страниц одинаковая разметка\n",
    "for link in all_links:\n",
    "    soup = BeautifulSoup(requests.get(link).text, 'html.parser')\n",
    "    if soup.find('div', class_='b-article__publish_date'):\n",
    "        date = pd.to_datetime(soup.find('div', class_='b-article__publish_date').find('time').get('datetime'), dayfirst=True).date()\n",
    "    elif soup.find('time', class_='title__cake'):\n",
    "        date = pd.to_datetime(soup.find('time', class_='title__cake').get('datetime'), dayfirst=True).date()\n",
    "    print(date)\n",
    "    if soup.find('h2', class_='article_name'): \n",
    "        title = soup.find('h2', class_='article_name').text\n",
    "    else: \n",
    "        title = soup.find('h1', class_='article_name').text    \n",
    "    print(title)\n",
    "    text = soup.find('div', class_='article_text_wrapper').text\n",
    "    print(text)"
   ]
  },
  {
   "cell_type": "code",
   "execution_count": null,
   "metadata": {},
   "outputs": [],
   "source": [
    "# запишем данные в датафрейм\n",
    "kom_news = pd.DataFrame()\n",
    "for link in all_links:\n",
    "    soup = BeautifulSoup(requests.get(link).text, 'html.parser')\n",
    "    time.sleep(0.3)\n",
    "    if soup.find('div', class_='b-article__publish_date'):\n",
    "        date = pd.to_datetime(soup.find('div', class_='b-article__publish_date').find('time').get('datetime'), dayfirst=True).date()\n",
    "    elif soup.find('time', class_='title__cake'):\n",
    "        date = pd.to_datetime(soup.find('time', class_='title__cake').get('datetime'), dayfirst=True).date()\n",
    "    if soup.find('h2', class_='article_name'): \n",
    "        title = soup.find('h2', class_='article_name').text\n",
    "    else: \n",
    "        title = soup.find('h1', class_='article_name').text    \n",
    "    text = soup.find('div', class_='article_text_wrapper').text\n",
    "    row = {'date': date, 'title': title, 'text': text}\n",
    "    kom_news = pd.concat([kom_news, pd.DataFrame([row])])  \n",
    "kom_news"
   ]
  },
  {
   "cell_type": "code",
   "execution_count": null,
   "metadata": {},
   "outputs": [],
   "source": [
    "# обернем в функцию \n",
    "def get_kom_news(links):\n",
    "    kom_news = pd.DataFrame()\n",
    "    for link in all_links:\n",
    "        soup = BeautifulSoup(requests.get(link).text, 'html.parser')\n",
    "        if soup.find('div', class_='b-article__publish_date'):\n",
    "            date = pd.to_datetime(soup.find('div', class_='b-article__publish_date').find('time').get('datetime'), dayfirst=True).date()\n",
    "        elif soup.find('time', class_='title__cake'):\n",
    "            date = pd.to_datetime(soup.find('time', class_='title__cake').get('datetime'), dayfirst=True).date()\n",
    "        if soup.find('h2', class_='article_name'): \n",
    "            title = soup.find('h2', class_='article_name').text\n",
    "        else: \n",
    "            title = soup.find('h1', class_='article_name').text    \n",
    "        text = soup.find('div', class_='article_text_wrapper').text\n",
    "        row = {'date': date, 'title': title, 'text': text}\n",
    "        kom_news = pd.concat([kom_news, pd.DataFrame([row])])  \n",
    "    return kom_news"
   ]
  },
  {
   "cell_type": "code",
   "execution_count": null,
   "metadata": {},
   "outputs": [],
   "source": [
    "kom_news = get_kom_news(all_links)\n",
    "kom_news"
   ]
  },
  {
   "cell_type": "markdown",
   "metadata": {},
   "source": [
    "# API"
   ]
  },
  {
   "cell_type": "markdown",
   "metadata": {},
   "source": [
    "## Практика 3. Получим данные о песнях исполнителя при помощи  [API ITunes](https://developer.apple.com/library/archive/documentation/AudioVideo/Conceptual/iTuneSearchAPI/index.html)"
   ]
  },
  {
   "cell_type": "code",
   "execution_count": null,
   "metadata": {},
   "outputs": [],
   "source": [
    "# https://developer.apple.com/library/archive/documentation/AudioVideo/Conceptual/iTuneSearchAPI/UnderstandingSearchResults.html#//apple_ref/doc/uid/TP40017632-CH8-SW1\n",
    "URL = 'https://itunes.apple.com/search?term=jack+johnson'"
   ]
  },
  {
   "cell_type": "code",
   "execution_count": null,
   "metadata": {},
   "outputs": [],
   "source": [
    "res = requests.get(URL)"
   ]
  },
  {
   "cell_type": "code",
   "execution_count": null,
   "metadata": {},
   "outputs": [],
   "source": [
    "res.text"
   ]
  },
  {
   "cell_type": "code",
   "execution_count": null,
   "metadata": {},
   "outputs": [],
   "source": [
    "res.json()"
   ]
  },
  {
   "cell_type": "code",
   "execution_count": null,
   "metadata": {},
   "outputs": [],
   "source": [
    "params = {\n",
    "    'term': 'шнуров',\n",
    "    'limit': 200,\n",
    "#     'offset': 2\n",
    "}"
   ]
  },
  {
   "cell_type": "code",
   "execution_count": null,
   "metadata": {},
   "outputs": [],
   "source": [
    "# pd.set_option('display.max_columns', 100)\n",
    "res = requests.get(URL, params)\n",
    "# res.json()\n",
    "\n",
    "pd.DataFrame(res.json()['results'])"
   ]
  },
  {
   "cell_type": "code",
   "execution_count": null,
   "metadata": {},
   "outputs": [],
   "source": [
    "params = {\n",
    "    'term': 'лазарев',\n",
    "    'limit': 60,\n",
    "    'attribute': 'allArtistTerm',\n",
    "    'country': 'ru'\n",
    "}"
   ]
  },
  {
   "cell_type": "code",
   "execution_count": null,
   "metadata": {},
   "outputs": [],
   "source": [
    "res = requests.get(URL, params)\n",
    "res.json()\n",
    "\n",
    "pd.DataFrame(res.json()['results'])"
   ]
  },
  {
   "cell_type": "markdown",
   "metadata": {},
   "source": [
    "## Практика 4. Соберем сообщения из новостной ленты ВК по нужному запросу"
   ]
  },
  {
   "cell_type": "code",
   "execution_count": null,
   "metadata": {},
   "outputs": [],
   "source": [
    "# https://vk.com/dev/manuals\n",
    "# https://vk.com/dev/newsfeed.search\n",
    "NEWSFEED_REQUEST = 'https://api.vk.com/method/newsfeed.search?'\n",
    "TOKEN = '9df7991c9df7991c9df7991c329d86910d99df79df7991cc363a27748dcf7ad91284ef6'\n",
    "VERSION = '5.103'\n",
    "SLEEP = 0.33"
   ]
  },
  {
   "cell_type": "code",
   "execution_count": null,
   "metadata": {},
   "outputs": [],
   "source": [
    "# обращаем внимание, что максимальное количество постов, \n",
    "# которые можно вытащить за раз, ограничено\n",
    "params = {\n",
    "    'access_token': TOKEN,\n",
    "    'v': VERSION,\n",
    "    'q': 'короновирус',\n",
    "    'count': 200\n",
    "}"
   ]
  },
  {
   "cell_type": "code",
   "execution_count": null,
   "metadata": {},
   "outputs": [],
   "source": [
    "res = requests.get(NEWSFEED_REQUEST, params)\n",
    "res"
   ]
  },
  {
   "cell_type": "code",
   "execution_count": null,
   "metadata": {},
   "outputs": [],
   "source": [
    "res.text"
   ]
  },
  {
   "cell_type": "code",
   "execution_count": null,
   "metadata": {},
   "outputs": [],
   "source": [
    "res.json()"
   ]
  },
  {
   "cell_type": "code",
   "execution_count": null,
   "metadata": {},
   "outputs": [],
   "source": [
    "res.json()['response']['items']"
   ]
  },
  {
   "cell_type": "code",
   "execution_count": null,
   "metadata": {},
   "outputs": [],
   "source": [
    "pd.DataFrame(res.json()['response']['items'])"
   ]
  },
  {
   "cell_type": "code",
   "execution_count": null,
   "metadata": {},
   "outputs": [],
   "source": [
    "# соберем все доступные сообщения по запросу\n",
    "newsfeed_df = pd.DataFrame()\n",
    "while True:\n",
    "    result = requests.get(NEWSFEED_REQUEST, params)\n",
    "    time.sleep(0.33)\n",
    "    newsfeed_df = pd.concat([newsfeed_df, pd.DataFrame(result.json()['response']['items'])])\n",
    "    if 'next_from' in result.json()['response'].keys():\n",
    "        params['start_from'] = result.json()['response']['next_from']\n",
    "    else:\n",
    "        break\n",
    "newsfeed_df"
   ]
  },
  {
   "cell_type": "code",
   "execution_count": null,
   "metadata": {},
   "outputs": [],
   "source": []
  }
 ],
 "metadata": {
  "kernelspec": {
   "display_name": "Python 3",
   "language": "python",
   "name": "python3"
  },
  "language_info": {
   "codemirror_mode": {
    "name": "ipython",
    "version": 3
   },
   "file_extension": ".py",
   "mimetype": "text/x-python",
   "name": "python",
   "nbconvert_exporter": "python",
   "pygments_lexer": "ipython3",
   "version": "3.7.6"
  }
 },
 "nbformat": 4,
 "nbformat_minor": 4
}
