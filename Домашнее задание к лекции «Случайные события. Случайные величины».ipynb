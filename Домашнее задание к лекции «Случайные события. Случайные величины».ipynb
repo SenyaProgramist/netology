{
 "cells": [
  {
   "cell_type": "code",
   "execution_count": 1,
   "metadata": {},
   "outputs": [],
   "source": [
    "import numpy as np"
   ]
  },
  {
   "cell_type": "code",
   "execution_count": 7,
   "metadata": {},
   "outputs": [],
   "source": [
    "randomProb = 1/999"
   ]
  },
  {
   "cell_type": "code",
   "execution_count": 9,
   "metadata": {},
   "outputs": [
    {
     "data": {
      "text/plain": [
       "-0.044674674674674786"
      ]
     },
     "execution_count": 9,
     "metadata": {},
     "output_type": "execute_result"
    }
   ],
   "source": [
    "averageWin = (randomProb * (200 + 100 + 15 + 10) + (10/1000*5) + (100/1000 * 3) + \n",
    "              (9/100*2) + (100/1000 * 1) - 1)\n",
    "averageWin"
   ]
  },
  {
   "cell_type": "code",
   "execution_count": 27,
   "metadata": {},
   "outputs": [
    {
     "data": {
      "text/plain": [
       "-0.1989344"
      ]
     },
     "execution_count": 27,
     "metadata": {},
     "output_type": "execute_result"
    }
   ],
   "source": [
    "tries = 10000000\n",
    "money = 0\n",
    "res = np.random.randint(0,1000, tries)\n",
    "for i in res:\n",
    "    money -= 1\n",
    "    if i == 777:\n",
    "        money+=200\n",
    "        \n",
    "    elif i == 999:\n",
    "        money+=100\n",
    "        \n",
    "    elif i == 555:\n",
    "        money+=50\n",
    "        \n",
    "    elif i == 333:\n",
    "        money+=15\n",
    "        \n",
    "    elif i == 111:\n",
    "        money+=10\n",
    "        \n",
    "    elif i%100 == 77:\n",
    "        money+=5\n",
    "        \n",
    "    elif i%10 == 7:\n",
    "        money+=3\n",
    "        \n",
    "    elif i%100 == 0:\n",
    "        money+=2\n",
    "        \n",
    "    elif i%10 == 0:\n",
    "        money+=1\n",
    "        \n",
    "money/tries "
   ]
  },
  {
   "cell_type": "code",
   "execution_count": 15,
   "metadata": {},
   "outputs": [
    {
     "data": {
      "text/plain": [
       "[1, 3, 5, 7, 9]"
      ]
     },
     "execution_count": 15,
     "metadata": {},
     "output_type": "execute_result"
    }
   ],
   "source": [
    "list(range(1,10,2))"
   ]
  },
  {
   "cell_type": "code",
   "execution_count": 28,
   "metadata": {},
   "outputs": [
    {
     "data": {
      "text/plain": [
       "0"
      ]
     },
     "execution_count": 28,
     "metadata": {},
     "output_type": "execute_result"
    }
   ],
   "source": [
    "500%100"
   ]
  },
  {
   "cell_type": "code",
   "execution_count": null,
   "metadata": {},
   "outputs": [],
   "source": []
  }
 ],
 "metadata": {
  "kernelspec": {
   "display_name": "Python 3",
   "language": "python",
   "name": "python3"
  },
  "language_info": {
   "codemirror_mode": {
    "name": "ipython",
    "version": 3
   },
   "file_extension": ".py",
   "mimetype": "text/x-python",
   "name": "python",
   "nbconvert_exporter": "python",
   "pygments_lexer": "ipython3",
   "version": "3.7.6"
  }
 },
 "nbformat": 4,
 "nbformat_minor": 4
}
