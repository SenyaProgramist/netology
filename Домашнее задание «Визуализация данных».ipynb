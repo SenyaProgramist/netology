{
 "cells": [
  {
   "cell_type": "code",
   "execution_count": 315,
   "metadata": {},
   "outputs": [],
   "source": [
    "import pandas as pd\n",
    "import matplotlib.pyplot as plt\n",
    "import re"
   ]
  },
  {
   "cell_type": "code",
   "execution_count": 316,
   "metadata": {},
   "outputs": [
    {
     "data": {
      "text/html": [
       "<div>\n",
       "<style scoped>\n",
       "    .dataframe tbody tr th:only-of-type {\n",
       "        vertical-align: middle;\n",
       "    }\n",
       "\n",
       "    .dataframe tbody tr th {\n",
       "        vertical-align: top;\n",
       "    }\n",
       "\n",
       "    .dataframe thead th {\n",
       "        text-align: right;\n",
       "    }\n",
       "</style>\n",
       "<table border=\"1\" class=\"dataframe\">\n",
       "  <thead>\n",
       "    <tr style=\"text-align: right;\">\n",
       "      <th></th>\n",
       "      <th>App</th>\n",
       "      <th>Category</th>\n",
       "      <th>Rating</th>\n",
       "      <th>Reviews</th>\n",
       "      <th>Size</th>\n",
       "      <th>Installs</th>\n",
       "      <th>Type</th>\n",
       "      <th>Price</th>\n",
       "      <th>Content Rating</th>\n",
       "      <th>Genres</th>\n",
       "      <th>Last Updated</th>\n",
       "      <th>Current Ver</th>\n",
       "      <th>Android Ver</th>\n",
       "    </tr>\n",
       "  </thead>\n",
       "  <tbody>\n",
       "    <tr>\n",
       "      <th>0</th>\n",
       "      <td>Photo Editor &amp; Candy Camera &amp; Grid &amp; ScrapBook</td>\n",
       "      <td>ART_AND_DESIGN</td>\n",
       "      <td>4.1</td>\n",
       "      <td>159</td>\n",
       "      <td>19M</td>\n",
       "      <td>10,000+</td>\n",
       "      <td>Free</td>\n",
       "      <td>0</td>\n",
       "      <td>Everyone</td>\n",
       "      <td>Art &amp; Design</td>\n",
       "      <td>January 7, 2018</td>\n",
       "      <td>1.0.0</td>\n",
       "      <td>4.0.3 and up</td>\n",
       "    </tr>\n",
       "    <tr>\n",
       "      <th>1</th>\n",
       "      <td>Coloring book moana</td>\n",
       "      <td>ART_AND_DESIGN</td>\n",
       "      <td>3.9</td>\n",
       "      <td>967</td>\n",
       "      <td>14M</td>\n",
       "      <td>500,000+</td>\n",
       "      <td>Free</td>\n",
       "      <td>0</td>\n",
       "      <td>Everyone</td>\n",
       "      <td>Art &amp; Design;Pretend Play</td>\n",
       "      <td>January 15, 2018</td>\n",
       "      <td>2.0.0</td>\n",
       "      <td>4.0.3 and up</td>\n",
       "    </tr>\n",
       "    <tr>\n",
       "      <th>2</th>\n",
       "      <td>U Launcher Lite – FREE Live Cool Themes, Hide ...</td>\n",
       "      <td>ART_AND_DESIGN</td>\n",
       "      <td>4.7</td>\n",
       "      <td>87510</td>\n",
       "      <td>8.7M</td>\n",
       "      <td>5,000,000+</td>\n",
       "      <td>Free</td>\n",
       "      <td>0</td>\n",
       "      <td>Everyone</td>\n",
       "      <td>Art &amp; Design</td>\n",
       "      <td>August 1, 2018</td>\n",
       "      <td>1.2.4</td>\n",
       "      <td>4.0.3 and up</td>\n",
       "    </tr>\n",
       "    <tr>\n",
       "      <th>3</th>\n",
       "      <td>Sketch - Draw &amp; Paint</td>\n",
       "      <td>ART_AND_DESIGN</td>\n",
       "      <td>4.5</td>\n",
       "      <td>215644</td>\n",
       "      <td>25M</td>\n",
       "      <td>50,000,000+</td>\n",
       "      <td>Free</td>\n",
       "      <td>0</td>\n",
       "      <td>Teen</td>\n",
       "      <td>Art &amp; Design</td>\n",
       "      <td>June 8, 2018</td>\n",
       "      <td>Varies with device</td>\n",
       "      <td>4.2 and up</td>\n",
       "    </tr>\n",
       "    <tr>\n",
       "      <th>4</th>\n",
       "      <td>Pixel Draw - Number Art Coloring Book</td>\n",
       "      <td>ART_AND_DESIGN</td>\n",
       "      <td>4.3</td>\n",
       "      <td>967</td>\n",
       "      <td>2.8M</td>\n",
       "      <td>100,000+</td>\n",
       "      <td>Free</td>\n",
       "      <td>0</td>\n",
       "      <td>Everyone</td>\n",
       "      <td>Art &amp; Design;Creativity</td>\n",
       "      <td>June 20, 2018</td>\n",
       "      <td>1.1</td>\n",
       "      <td>4.4 and up</td>\n",
       "    </tr>\n",
       "  </tbody>\n",
       "</table>\n",
       "</div>"
      ],
      "text/plain": [
       "                                                 App        Category  Rating  \\\n",
       "0     Photo Editor & Candy Camera & Grid & ScrapBook  ART_AND_DESIGN     4.1   \n",
       "1                                Coloring book moana  ART_AND_DESIGN     3.9   \n",
       "2  U Launcher Lite – FREE Live Cool Themes, Hide ...  ART_AND_DESIGN     4.7   \n",
       "3                              Sketch - Draw & Paint  ART_AND_DESIGN     4.5   \n",
       "4              Pixel Draw - Number Art Coloring Book  ART_AND_DESIGN     4.3   \n",
       "\n",
       "  Reviews  Size     Installs  Type Price Content Rating  \\\n",
       "0     159   19M      10,000+  Free     0       Everyone   \n",
       "1     967   14M     500,000+  Free     0       Everyone   \n",
       "2   87510  8.7M   5,000,000+  Free     0       Everyone   \n",
       "3  215644   25M  50,000,000+  Free     0           Teen   \n",
       "4     967  2.8M     100,000+  Free     0       Everyone   \n",
       "\n",
       "                      Genres      Last Updated         Current Ver  \\\n",
       "0               Art & Design   January 7, 2018               1.0.0   \n",
       "1  Art & Design;Pretend Play  January 15, 2018               2.0.0   \n",
       "2               Art & Design    August 1, 2018               1.2.4   \n",
       "3               Art & Design      June 8, 2018  Varies with device   \n",
       "4    Art & Design;Creativity     June 20, 2018                 1.1   \n",
       "\n",
       "    Android Ver  \n",
       "0  4.0.3 and up  \n",
       "1  4.0.3 and up  \n",
       "2  4.0.3 and up  \n",
       "3    4.2 and up  \n",
       "4    4.4 and up  "
      ]
     },
     "execution_count": 316,
     "metadata": {},
     "output_type": "execute_result"
    }
   ],
   "source": [
    "apps_data = pd.read_csv('googleplaystore.csv')\n",
    "apps_data.head()"
   ]
  },
  {
   "cell_type": "code",
   "execution_count": 317,
   "metadata": {},
   "outputs": [
    {
     "name": "stdout",
     "output_type": "stream",
     "text": [
      "<class 'pandas.core.frame.DataFrame'>\n",
      "RangeIndex: 10841 entries, 0 to 10840\n",
      "Data columns (total 13 columns):\n",
      " #   Column          Non-Null Count  Dtype  \n",
      "---  ------          --------------  -----  \n",
      " 0   App             10841 non-null  object \n",
      " 1   Category        10841 non-null  object \n",
      " 2   Rating          9367 non-null   float64\n",
      " 3   Reviews         10841 non-null  object \n",
      " 4   Size            10841 non-null  object \n",
      " 5   Installs        10841 non-null  object \n",
      " 6   Type            10840 non-null  object \n",
      " 7   Price           10841 non-null  object \n",
      " 8   Content Rating  10840 non-null  object \n",
      " 9   Genres          10841 non-null  object \n",
      " 10  Last Updated    10841 non-null  object \n",
      " 11  Current Ver     10833 non-null  object \n",
      " 12  Android Ver     10838 non-null  object \n",
      "dtypes: float64(1), object(12)\n",
      "memory usage: 1.1+ MB\n"
     ]
    }
   ],
   "source": [
    "apps_data.info()"
   ]
  },
  {
   "cell_type": "code",
   "execution_count": 318,
   "metadata": {},
   "outputs": [
    {
     "data": {
      "text/plain": [
       "Index(['App', 'Category', 'Rating', 'Reviews', 'Size', 'Installs', 'Type',\n",
       "       'Price', 'Content Rating', 'Genres', 'Last Updated', 'Current Ver',\n",
       "       'Android Ver'],\n",
       "      dtype='object')"
      ]
     },
     "execution_count": 318,
     "metadata": {},
     "output_type": "execute_result"
    }
   ],
   "source": [
    "apps_data.columns"
   ]
  },
  {
   "cell_type": "code",
   "execution_count": 319,
   "metadata": {},
   "outputs": [],
   "source": [
    "from pylab import rcParams\n",
    "rcParams['figure.figsize'] = 13,6"
   ]
  },
  {
   "cell_type": "code",
   "execution_count": 320,
   "metadata": {
    "scrolled": true
   },
   "outputs": [
    {
     "name": "stdout",
     "output_type": "stream",
     "text": [
      "App - 0.0\n",
      "Category - 0.0\n",
      "Rating - 0.13596531685268887\n",
      "Reviews - 0.0\n",
      "Size - 0.0\n",
      "Installs - 0.0\n",
      "Type - 9.224241306152569e-05\n",
      "Price - 0.0\n",
      "Content Rating - 9.224241306152569e-05\n",
      "Genres - 0.0\n",
      "Last Updated - 0.0\n",
      "Current Ver - 0.0007379393044922055\n",
      "Android Ver - 0.0002767272391845771\n"
     ]
    }
   ],
   "source": [
    "for col in apps_data.columns:\n",
    "    pct_missing = apps_data[col].isnull().sum()/len(apps_data[col])\n",
    "    print(f'{col} - {pct_missing}')"
   ]
  },
  {
   "cell_type": "code",
   "execution_count": 321,
   "metadata": {},
   "outputs": [
    {
     "name": "stdout",
     "output_type": "stream",
     "text": [
      "Category\n",
      "1.9                    19.0\n",
      "ART_AND_DESIGN          4.4\n",
      "AUTO_AND_VEHICLES       4.3\n",
      "BEAUTY                  4.3\n",
      "BOOKS_AND_REFERENCE     4.5\n",
      "BUSINESS                4.3\n",
      "COMICS                  4.4\n",
      "COMMUNICATION           4.3\n",
      "DATING                  4.1\n",
      "EDUCATION               4.4\n",
      "ENTERTAINMENT           4.2\n",
      "EVENTS                  4.5\n",
      "FAMILY                  4.3\n",
      "FINANCE                 4.3\n",
      "FOOD_AND_DRINK          4.3\n",
      "GAME                    4.4\n",
      "HEALTH_AND_FITNESS      4.5\n",
      "HOUSE_AND_HOME          4.3\n",
      "LIBRARIES_AND_DEMO      4.2\n",
      "LIFESTYLE               4.2\n",
      "MAPS_AND_NAVIGATION     4.2\n",
      "MEDICAL                 4.3\n",
      "NEWS_AND_MAGAZINES      4.2\n",
      "PARENTING               4.4\n",
      "PERSONALIZATION         4.4\n",
      "PHOTOGRAPHY             4.3\n",
      "PRODUCTIVITY            4.3\n",
      "SHOPPING                4.3\n",
      "SOCIAL                  4.3\n",
      "SPORTS                  4.3\n",
      "TOOLS                   4.2\n",
      "TRAVEL_AND_LOCAL        4.3\n",
      "VIDEO_PLAYERS           4.2\n",
      "WEATHER                 4.3\n",
      "Name: Rating, dtype: float64\n"
     ]
    }
   ],
   "source": [
    "apps_data.Rating.fillna(apps_data.groupby('Category').Rating.transform('median'), inplace=True)\n",
    "\n",
    "print(apps_data.groupby('Category').Rating.median())"
   ]
  },
  {
   "cell_type": "code",
   "execution_count": 322,
   "metadata": {
    "scrolled": true
   },
   "outputs": [
    {
     "data": {
      "text/plain": [
       "0"
      ]
     },
     "execution_count": 322,
     "metadata": {},
     "output_type": "execute_result"
    }
   ],
   "source": [
    "apps_data.Rating.isnull().sum()"
   ]
  },
  {
   "cell_type": "code",
   "execution_count": 323,
   "metadata": {},
   "outputs": [
    {
     "data": {
      "text/plain": [
       "0            10,000+\n",
       "1           500,000+\n",
       "2         5,000,000+\n",
       "3        50,000,000+\n",
       "4           100,000+\n",
       "            ...     \n",
       "10836         5,000+\n",
       "10837           100+\n",
       "10838         1,000+\n",
       "10839         1,000+\n",
       "10840    10,000,000+\n",
       "Name: Installs, Length: 10841, dtype: object"
      ]
     },
     "execution_count": 323,
     "metadata": {},
     "output_type": "execute_result"
    }
   ],
   "source": [
    "apps_data.Installs"
   ]
  },
  {
   "cell_type": "code",
   "execution_count": 324,
   "metadata": {},
   "outputs": [
    {
     "name": "stdout",
     "output_type": "stream",
     "text": [
      "<class 'pandas.core.frame.DataFrame'>\n",
      "RangeIndex: 10841 entries, 0 to 10840\n",
      "Data columns (total 13 columns):\n",
      " #   Column          Non-Null Count  Dtype  \n",
      "---  ------          --------------  -----  \n",
      " 0   App             10841 non-null  object \n",
      " 1   Category        10841 non-null  object \n",
      " 2   Rating          10841 non-null  float64\n",
      " 3   Reviews         10841 non-null  object \n",
      " 4   Size            10841 non-null  object \n",
      " 5   Installs        10841 non-null  object \n",
      " 6   Type            10840 non-null  object \n",
      " 7   Price           10841 non-null  object \n",
      " 8   Content Rating  10840 non-null  object \n",
      " 9   Genres          10841 non-null  object \n",
      " 10  Last Updated    10841 non-null  object \n",
      " 11  Current Ver     10833 non-null  object \n",
      " 12  Android Ver     10838 non-null  object \n",
      "dtypes: float64(1), object(12)\n",
      "memory usage: 1.1+ MB\n"
     ]
    }
   ],
   "source": [
    "apps_data.info()"
   ]
  },
  {
   "cell_type": "markdown",
   "metadata": {},
   "source": [
    "### Installs"
   ]
  },
  {
   "cell_type": "code",
   "execution_count": 325,
   "metadata": {},
   "outputs": [
    {
     "data": {
      "text/plain": [
       "array(['10,000+', '500,000+', '5,000,000+', '50,000,000+', '100,000+',\n",
       "       '50,000+', '1,000,000+', '10,000,000+', '5,000+', '100,000,000+',\n",
       "       '1,000,000,000+', '1,000+', '500,000,000+', '50+', '100+', '500+',\n",
       "       '10+', '1+', '5+', '0+', '0', 'Free'], dtype=object)"
      ]
     },
     "execution_count": 325,
     "metadata": {},
     "output_type": "execute_result"
    }
   ],
   "source": [
    "apps_data['Installs'].unique()"
   ]
  },
  {
   "cell_type": "code",
   "execution_count": 326,
   "metadata": {},
   "outputs": [],
   "source": [
    "def adjust_installs(x):\n",
    "    x = x.replace('+','')\n",
    "    x = x.replace(',','')\n",
    "    x = x.replace('Free','100')\n",
    "    return int(x)\n",
    "    \n",
    "apps_data['Installs'] = apps_data['Installs'].apply(adjust_installs)"
   ]
  },
  {
   "cell_type": "code",
   "execution_count": 327,
   "metadata": {},
   "outputs": [
    {
     "name": "stdout",
     "output_type": "stream",
     "text": [
      "<class 'pandas.core.frame.DataFrame'>\n",
      "RangeIndex: 10841 entries, 0 to 10840\n",
      "Data columns (total 13 columns):\n",
      " #   Column          Non-Null Count  Dtype  \n",
      "---  ------          --------------  -----  \n",
      " 0   App             10841 non-null  object \n",
      " 1   Category        10841 non-null  object \n",
      " 2   Rating          10841 non-null  float64\n",
      " 3   Reviews         10841 non-null  object \n",
      " 4   Size            10841 non-null  object \n",
      " 5   Installs        10841 non-null  int64  \n",
      " 6   Type            10840 non-null  object \n",
      " 7   Price           10841 non-null  object \n",
      " 8   Content Rating  10840 non-null  object \n",
      " 9   Genres          10841 non-null  object \n",
      " 10  Last Updated    10841 non-null  object \n",
      " 11  Current Ver     10833 non-null  object \n",
      " 12  Android Ver     10838 non-null  object \n",
      "dtypes: float64(1), int64(1), object(11)\n",
      "memory usage: 1.1+ MB\n"
     ]
    }
   ],
   "source": [
    "apps_data.info()"
   ]
  },
  {
   "cell_type": "markdown",
   "metadata": {},
   "source": [
    "### Reviews"
   ]
  },
  {
   "cell_type": "code",
   "execution_count": 328,
   "metadata": {},
   "outputs": [],
   "source": [
    "def wrong_values(column):\n",
    "    incorrect = []\n",
    "    counter = 0\n",
    "    for val in apps_data[column]:\n",
    "        counter +=1\n",
    "        try:\n",
    "            int(val)\n",
    "        except:\n",
    "            incorrect.append(val)\n",
    "    return [set(incorrect), counter]"
   ]
  },
  {
   "cell_type": "code",
   "execution_count": 329,
   "metadata": {},
   "outputs": [
    {
     "data": {
      "text/plain": [
       "[{'3.0M'}, 10841]"
      ]
     },
     "execution_count": 329,
     "metadata": {},
     "output_type": "execute_result"
    }
   ],
   "source": [
    "wrong_values('Reviews')"
   ]
  },
  {
   "cell_type": "code",
   "execution_count": 330,
   "metadata": {},
   "outputs": [],
   "source": [
    "def adjust_reviews(x):\n",
    "    if type(x) == str:\n",
    "        x = x.replace('3.0M','3000000')\n",
    "    return int(x)\n",
    "# apps_data.loc[1,'Reviews'] = int(apps_data.loc[1,'Reviews']).astype('int64')\n",
    "apps_data['Reviews'] = apps_data['Reviews'].astype('object')\n",
    "apps_data['Reviews'] = apps_data['Reviews'].apply(adjust_reviews)\n",
    "apps_data['Reviews'] = apps_data['Reviews'].astype('int64')"
   ]
  },
  {
   "cell_type": "code",
   "execution_count": 331,
   "metadata": {},
   "outputs": [
    {
     "name": "stdout",
     "output_type": "stream",
     "text": [
      "<class 'pandas.core.frame.DataFrame'>\n",
      "RangeIndex: 10841 entries, 0 to 10840\n",
      "Data columns (total 13 columns):\n",
      " #   Column          Non-Null Count  Dtype  \n",
      "---  ------          --------------  -----  \n",
      " 0   App             10841 non-null  object \n",
      " 1   Category        10841 non-null  object \n",
      " 2   Rating          10841 non-null  float64\n",
      " 3   Reviews         10841 non-null  int64  \n",
      " 4   Size            10841 non-null  object \n",
      " 5   Installs        10841 non-null  int64  \n",
      " 6   Type            10840 non-null  object \n",
      " 7   Price           10841 non-null  object \n",
      " 8   Content Rating  10840 non-null  object \n",
      " 9   Genres          10841 non-null  object \n",
      " 10  Last Updated    10841 non-null  object \n",
      " 11  Current Ver     10833 non-null  object \n",
      " 12  Android Ver     10838 non-null  object \n",
      "dtypes: float64(1), int64(2), object(10)\n",
      "memory usage: 1.1+ MB\n"
     ]
    }
   ],
   "source": [
    "apps_data.info()"
   ]
  },
  {
   "cell_type": "markdown",
   "metadata": {},
   "source": [
    "### Size"
   ]
  },
  {
   "cell_type": "code",
   "execution_count": 332,
   "metadata": {},
   "outputs": [
    {
     "data": {
      "text/plain": [
       "[{'1,000+',\n",
       "  '1.0M',\n",
       "  '1.1M',\n",
       "  '1.2M',\n",
       "  '1.3M',\n",
       "  '1.4M',\n",
       "  '1.5M',\n",
       "  '1.6M',\n",
       "  '1.7M',\n",
       "  '1.8M',\n",
       "  '1.9M',\n",
       "  '10.0M',\n",
       "  '100M',\n",
       "  '1020k',\n",
       "  '103k',\n",
       "  '108k',\n",
       "  '10M',\n",
       "  '116k',\n",
       "  '118k',\n",
       "  '11M',\n",
       "  '11k',\n",
       "  '121k',\n",
       "  '122k',\n",
       "  '12M',\n",
       "  '13M',\n",
       "  '141k',\n",
       "  '143k',\n",
       "  '144k',\n",
       "  '14M',\n",
       "  '14k',\n",
       "  '153k',\n",
       "  '154k',\n",
       "  '157k',\n",
       "  '15M',\n",
       "  '160k',\n",
       "  '161k',\n",
       "  '164k',\n",
       "  '169k',\n",
       "  '16M',\n",
       "  '170k',\n",
       "  '172k',\n",
       "  '173k',\n",
       "  '175k',\n",
       "  '176k',\n",
       "  '17M',\n",
       "  '17k',\n",
       "  '186k',\n",
       "  '18M',\n",
       "  '18k',\n",
       "  '190k',\n",
       "  '191k',\n",
       "  '192k',\n",
       "  '193k',\n",
       "  '196k',\n",
       "  '19M',\n",
       "  '2.0M',\n",
       "  '2.1M',\n",
       "  '2.2M',\n",
       "  '2.3M',\n",
       "  '2.4M',\n",
       "  '2.5M',\n",
       "  '2.6M',\n",
       "  '2.7M',\n",
       "  '2.8M',\n",
       "  '2.9M',\n",
       "  '200k',\n",
       "  '201k',\n",
       "  '203k',\n",
       "  '206k',\n",
       "  '208k',\n",
       "  '209k',\n",
       "  '20M',\n",
       "  '20k',\n",
       "  '210k',\n",
       "  '219k',\n",
       "  '21M',\n",
       "  '220k',\n",
       "  '221k',\n",
       "  '222k',\n",
       "  '226k',\n",
       "  '228k',\n",
       "  '22M',\n",
       "  '232k',\n",
       "  '234k',\n",
       "  '237k',\n",
       "  '238k',\n",
       "  '239k',\n",
       "  '23M',\n",
       "  '23k',\n",
       "  '240k',\n",
       "  '241k',\n",
       "  '243k',\n",
       "  '245k',\n",
       "  '246k',\n",
       "  '24M',\n",
       "  '24k',\n",
       "  '251k',\n",
       "  '253k',\n",
       "  '257k',\n",
       "  '259k',\n",
       "  '25M',\n",
       "  '25k',\n",
       "  '266k',\n",
       "  '269k',\n",
       "  '26M',\n",
       "  '26k',\n",
       "  '270k',\n",
       "  '27M',\n",
       "  '27k',\n",
       "  '280k',\n",
       "  '283k',\n",
       "  '288k',\n",
       "  '28M',\n",
       "  '28k',\n",
       "  '292k',\n",
       "  '293k',\n",
       "  '29M',\n",
       "  '29k',\n",
       "  '3.0M',\n",
       "  '3.1M',\n",
       "  '3.2M',\n",
       "  '3.3M',\n",
       "  '3.4M',\n",
       "  '3.5M',\n",
       "  '3.6M',\n",
       "  '3.7M',\n",
       "  '3.8M',\n",
       "  '3.9M',\n",
       "  '306k',\n",
       "  '308k',\n",
       "  '309k',\n",
       "  '30M',\n",
       "  '313k',\n",
       "  '314k',\n",
       "  '317k',\n",
       "  '318k',\n",
       "  '319k',\n",
       "  '31M',\n",
       "  '322k',\n",
       "  '323k',\n",
       "  '329k',\n",
       "  '32M',\n",
       "  '334k',\n",
       "  '335k',\n",
       "  '33M',\n",
       "  '33k',\n",
       "  '34M',\n",
       "  '34k',\n",
       "  '350k',\n",
       "  '351k',\n",
       "  '353k',\n",
       "  '35M',\n",
       "  '364k',\n",
       "  '36M',\n",
       "  '371k',\n",
       "  '373k',\n",
       "  '375k',\n",
       "  '376k',\n",
       "  '378k',\n",
       "  '37M',\n",
       "  '383k',\n",
       "  '387k',\n",
       "  '38M',\n",
       "  '39M',\n",
       "  '39k',\n",
       "  '4.0M',\n",
       "  '4.1M',\n",
       "  '4.2M',\n",
       "  '4.3M',\n",
       "  '4.4M',\n",
       "  '4.5M',\n",
       "  '4.6M',\n",
       "  '4.7M',\n",
       "  '4.8M',\n",
       "  '4.9M',\n",
       "  '400k',\n",
       "  '404k',\n",
       "  '40M',\n",
       "  '411k',\n",
       "  '412k',\n",
       "  '414k',\n",
       "  '417k',\n",
       "  '41M',\n",
       "  '41k',\n",
       "  '420k',\n",
       "  '421k',\n",
       "  '429k',\n",
       "  '42M',\n",
       "  '430k',\n",
       "  '437k',\n",
       "  '43M',\n",
       "  '442k',\n",
       "  '444k',\n",
       "  '44M',\n",
       "  '44k',\n",
       "  '454k',\n",
       "  '458k',\n",
       "  '459k',\n",
       "  '45M',\n",
       "  '45k',\n",
       "  '460k',\n",
       "  '467k',\n",
       "  '46M',\n",
       "  '470k',\n",
       "  '473k',\n",
       "  '475k',\n",
       "  '478k',\n",
       "  '47M',\n",
       "  '485k',\n",
       "  '48M',\n",
       "  '48k',\n",
       "  '496k',\n",
       "  '498k',\n",
       "  '499k',\n",
       "  '49M',\n",
       "  '5.0M',\n",
       "  '5.1M',\n",
       "  '5.2M',\n",
       "  '5.3M',\n",
       "  '5.4M',\n",
       "  '5.5M',\n",
       "  '5.6M',\n",
       "  '5.7M',\n",
       "  '5.8M',\n",
       "  '5.9M',\n",
       "  '500k',\n",
       "  '506k',\n",
       "  '50M',\n",
       "  '50k',\n",
       "  '511k',\n",
       "  '514k',\n",
       "  '516k',\n",
       "  '518k',\n",
       "  '51M',\n",
       "  '51k',\n",
       "  '523k',\n",
       "  '525k',\n",
       "  '526k',\n",
       "  '52M',\n",
       "  '53M',\n",
       "  '540k',\n",
       "  '544k',\n",
       "  '545k',\n",
       "  '549k',\n",
       "  '54M',\n",
       "  '54k',\n",
       "  '551k',\n",
       "  '552k',\n",
       "  '554k',\n",
       "  '556k',\n",
       "  '55M',\n",
       "  '55k',\n",
       "  '562k',\n",
       "  '569k',\n",
       "  '56M',\n",
       "  '57M',\n",
       "  '582k',\n",
       "  '585k',\n",
       "  '58M',\n",
       "  '58k',\n",
       "  '592k',\n",
       "  '597k',\n",
       "  '598k',\n",
       "  '59M',\n",
       "  '6.0M',\n",
       "  '6.1M',\n",
       "  '6.2M',\n",
       "  '6.3M',\n",
       "  '6.4M',\n",
       "  '6.5M',\n",
       "  '6.6M',\n",
       "  '6.7M',\n",
       "  '6.8M',\n",
       "  '6.9M',\n",
       "  '600k',\n",
       "  '601k',\n",
       "  '608k',\n",
       "  '609k',\n",
       "  '60M',\n",
       "  '613k',\n",
       "  '619k',\n",
       "  '61M',\n",
       "  '61k',\n",
       "  '624k',\n",
       "  '626k',\n",
       "  '629k',\n",
       "  '62M',\n",
       "  '636k',\n",
       "  '63M',\n",
       "  '642k',\n",
       "  '643k',\n",
       "  '647k',\n",
       "  '64M',\n",
       "  '655k',\n",
       "  '656k',\n",
       "  '658k',\n",
       "  '65M',\n",
       "  '663k',\n",
       "  '66M',\n",
       "  '676k',\n",
       "  '67M',\n",
       "  '67k',\n",
       "  '683k',\n",
       "  '688k',\n",
       "  '68M',\n",
       "  '691k',\n",
       "  '695k',\n",
       "  '696k',\n",
       "  '69M',\n",
       "  '7.0M',\n",
       "  '7.1M',\n",
       "  '7.2M',\n",
       "  '7.3M',\n",
       "  '7.4M',\n",
       "  '7.5M',\n",
       "  '7.6M',\n",
       "  '7.7M',\n",
       "  '7.8M',\n",
       "  '7.9M',\n",
       "  '704k',\n",
       "  '705k',\n",
       "  '70M',\n",
       "  '70k',\n",
       "  '713k',\n",
       "  '714k',\n",
       "  '716k',\n",
       "  '717k',\n",
       "  '71M',\n",
       "  '720k',\n",
       "  '721k',\n",
       "  '728k',\n",
       "  '72M',\n",
       "  '72k',\n",
       "  '730k',\n",
       "  '73M',\n",
       "  '73k',\n",
       "  '743k',\n",
       "  '746k',\n",
       "  '749k',\n",
       "  '74M',\n",
       "  '74k',\n",
       "  '754k',\n",
       "  '756k',\n",
       "  '75M',\n",
       "  '76M',\n",
       "  '772k',\n",
       "  '775k',\n",
       "  '778k',\n",
       "  '779k',\n",
       "  '77M',\n",
       "  '780k',\n",
       "  '782k',\n",
       "  '784k',\n",
       "  '785k',\n",
       "  '787k',\n",
       "  '78M',\n",
       "  '78k',\n",
       "  '79M',\n",
       "  '79k',\n",
       "  '8.0M',\n",
       "  '8.1M',\n",
       "  '8.2M',\n",
       "  '8.3M',\n",
       "  '8.4M',\n",
       "  '8.5M',\n",
       "  '8.5k',\n",
       "  '8.6M',\n",
       "  '8.7M',\n",
       "  '8.8M',\n",
       "  '8.9M',\n",
       "  '801k',\n",
       "  '809k',\n",
       "  '80M',\n",
       "  '811k',\n",
       "  '812k',\n",
       "  '816k',\n",
       "  '818k',\n",
       "  '81M',\n",
       "  '81k',\n",
       "  '82M',\n",
       "  '82k',\n",
       "  '837k',\n",
       "  '83M',\n",
       "  '840k',\n",
       "  '842k',\n",
       "  '847k',\n",
       "  '84M',\n",
       "  '853k',\n",
       "  '857k',\n",
       "  '85M',\n",
       "  '860k',\n",
       "  '861k',\n",
       "  '862k',\n",
       "  '865k',\n",
       "  '86M',\n",
       "  '872k',\n",
       "  '874k',\n",
       "  '879k',\n",
       "  '87M',\n",
       "  '881k',\n",
       "  '885k',\n",
       "  '887k',\n",
       "  '88M',\n",
       "  '892k',\n",
       "  '898k',\n",
       "  '899k',\n",
       "  '89M',\n",
       "  '89k',\n",
       "  '9.0M',\n",
       "  '9.1M',\n",
       "  '9.2M',\n",
       "  '9.3M',\n",
       "  '9.4M',\n",
       "  '9.5M',\n",
       "  '9.6M',\n",
       "  '9.7M',\n",
       "  '9.8M',\n",
       "  '9.9M',\n",
       "  '902k',\n",
       "  '903k',\n",
       "  '904k',\n",
       "  '90M',\n",
       "  '913k',\n",
       "  '914k',\n",
       "  '916k',\n",
       "  '91M',\n",
       "  '91k',\n",
       "  '920k',\n",
       "  '921k',\n",
       "  '924k',\n",
       "  '92M',\n",
       "  '930k',\n",
       "  '939k',\n",
       "  '93M',\n",
       "  '93k',\n",
       "  '940k',\n",
       "  '942k',\n",
       "  '948k',\n",
       "  '94M',\n",
       "  '951k',\n",
       "  '953k',\n",
       "  '954k',\n",
       "  '957k',\n",
       "  '95M',\n",
       "  '961k',\n",
       "  '963k',\n",
       "  '965k',\n",
       "  '96M',\n",
       "  '970k',\n",
       "  '975k',\n",
       "  '976k',\n",
       "  '97M',\n",
       "  '97k',\n",
       "  '980k',\n",
       "  '981k',\n",
       "  '982k',\n",
       "  '986k',\n",
       "  '98M',\n",
       "  '992k',\n",
       "  '994k',\n",
       "  '99M',\n",
       "  'Varies with device'},\n",
       " 10841]"
      ]
     },
     "execution_count": 332,
     "metadata": {},
     "output_type": "execute_result"
    }
   ],
   "source": [
    "wrong_values('Size')"
   ]
  },
  {
   "cell_type": "code",
   "execution_count": 333,
   "metadata": {},
   "outputs": [
    {
     "data": {
      "text/plain": [
       "App               0\n",
       "Category          0\n",
       "Rating            0\n",
       "Reviews           0\n",
       "Size              0\n",
       "Installs          0\n",
       "Type              0\n",
       "Price             0\n",
       "Content Rating    0\n",
       "Genres            0\n",
       "Last Updated      0\n",
       "Current Ver       0\n",
       "Android Ver       0\n",
       "dtype: int64"
      ]
     },
     "execution_count": 333,
     "metadata": {},
     "output_type": "execute_result"
    }
   ],
   "source": [
    "def adjust_reviews(x):\n",
    "    try:\n",
    "        if 'M' in x:\n",
    "            x = x.replace('M','')\n",
    "            return float(x) * 1000000\n",
    "\n",
    "        elif 'k' in x:\n",
    "            x = x.replace('k','')\n",
    "            return float(x) * 100000\n",
    "\n",
    "        elif '+' in x:\n",
    "            x = x.replace('+','')\n",
    "            x = x.replace(',','')\n",
    "            return float(x)\n",
    "        else:\n",
    "            return int(x)\n",
    "   \n",
    "    except:\n",
    "        return None\n",
    "        \n",
    "apps_data['Size'] = apps_data['Size'].apply(adjust_reviews)\n",
    "apps_data = apps_data.dropna()\n",
    "apps_data.isna().sum()"
   ]
  },
  {
   "cell_type": "code",
   "execution_count": 334,
   "metadata": {},
   "outputs": [
    {
     "name": "stdout",
     "output_type": "stream",
     "text": [
      "<class 'pandas.core.frame.DataFrame'>\n",
      "Int64Index: 9135 entries, 0 to 10840\n",
      "Data columns (total 13 columns):\n",
      " #   Column          Non-Null Count  Dtype  \n",
      "---  ------          --------------  -----  \n",
      " 0   App             9135 non-null   object \n",
      " 1   Category        9135 non-null   object \n",
      " 2   Rating          9135 non-null   float64\n",
      " 3   Reviews         9135 non-null   int64  \n",
      " 4   Size            9135 non-null   float64\n",
      " 5   Installs        9135 non-null   int64  \n",
      " 6   Type            9135 non-null   object \n",
      " 7   Price           9135 non-null   object \n",
      " 8   Content Rating  9135 non-null   object \n",
      " 9   Genres          9135 non-null   object \n",
      " 10  Last Updated    9135 non-null   object \n",
      " 11  Current Ver     9135 non-null   object \n",
      " 12  Android Ver     9135 non-null   object \n",
      "dtypes: float64(2), int64(2), object(9)\n",
      "memory usage: 999.1+ KB\n"
     ]
    }
   ],
   "source": [
    "apps_data.info()"
   ]
  },
  {
   "cell_type": "markdown",
   "metadata": {},
   "source": [
    "### Price"
   ]
  },
  {
   "cell_type": "code",
   "execution_count": 335,
   "metadata": {},
   "outputs": [
    {
     "data": {
      "text/plain": [
       "[{'$0.99',\n",
       "  '$1.00',\n",
       "  '$1.04',\n",
       "  '$1.20',\n",
       "  '$1.26',\n",
       "  '$1.29',\n",
       "  '$1.49',\n",
       "  '$1.50',\n",
       "  '$1.59',\n",
       "  '$1.61',\n",
       "  '$1.70',\n",
       "  '$1.75',\n",
       "  '$1.76',\n",
       "  '$1.96',\n",
       "  '$1.97',\n",
       "  '$1.99',\n",
       "  '$10.00',\n",
       "  '$10.99',\n",
       "  '$109.99',\n",
       "  '$11.99',\n",
       "  '$12.99',\n",
       "  '$13.99',\n",
       "  '$14.00',\n",
       "  '$14.99',\n",
       "  '$15.46',\n",
       "  '$15.99',\n",
       "  '$154.99',\n",
       "  '$16.99',\n",
       "  '$17.99',\n",
       "  '$18.99',\n",
       "  '$19.40',\n",
       "  '$19.90',\n",
       "  '$19.99',\n",
       "  '$2.00',\n",
       "  '$2.49',\n",
       "  '$2.56',\n",
       "  '$2.59',\n",
       "  '$2.60',\n",
       "  '$2.90',\n",
       "  '$2.99',\n",
       "  '$200.00',\n",
       "  '$24.99',\n",
       "  '$25.99',\n",
       "  '$28.99',\n",
       "  '$29.99',\n",
       "  '$299.99',\n",
       "  '$3.02',\n",
       "  '$3.04',\n",
       "  '$3.08',\n",
       "  '$3.28',\n",
       "  '$3.49',\n",
       "  '$3.61',\n",
       "  '$3.88',\n",
       "  '$3.99',\n",
       "  '$30.99',\n",
       "  '$33.99',\n",
       "  '$37.99',\n",
       "  '$379.99',\n",
       "  '$389.99',\n",
       "  '$39.99',\n",
       "  '$394.99',\n",
       "  '$399.99',\n",
       "  '$4.29',\n",
       "  '$4.49',\n",
       "  '$4.60',\n",
       "  '$4.77',\n",
       "  '$4.80',\n",
       "  '$4.84',\n",
       "  '$4.85',\n",
       "  '$4.99',\n",
       "  '$400.00',\n",
       "  '$46.99',\n",
       "  '$5.00',\n",
       "  '$5.49',\n",
       "  '$5.99',\n",
       "  '$6.49',\n",
       "  '$6.99',\n",
       "  '$7.49',\n",
       "  '$7.99',\n",
       "  '$74.99',\n",
       "  '$79.99',\n",
       "  '$8.49',\n",
       "  '$8.99',\n",
       "  '$89.99',\n",
       "  '$9.00',\n",
       "  '$9.99'},\n",
       " 9135]"
      ]
     },
     "execution_count": 335,
     "metadata": {},
     "output_type": "execute_result"
    }
   ],
   "source": [
    "wrong_values('Price')\n"
   ]
  },
  {
   "cell_type": "code",
   "execution_count": 336,
   "metadata": {},
   "outputs": [],
   "source": [
    "def adjust_reviews(x):\n",
    "    if type(x) == str:\n",
    "        x = x.replace('$','')\n",
    "    return int(x)\n",
    "\n",
    "apps_data['Reviews'] = apps_data['Reviews'].astype('int64')"
   ]
  },
  {
   "cell_type": "code",
   "execution_count": 337,
   "metadata": {},
   "outputs": [
    {
     "ename": "NameError",
     "evalue": "name 'apps' is not defined",
     "output_type": "error",
     "traceback": [
      "\u001b[0;31m---------------------------------------------------------------------------\u001b[0m",
      "\u001b[0;31mNameError\u001b[0m                                 Traceback (most recent call last)",
      "\u001b[0;32m<ipython-input-337-b2bd06ff40e2>\u001b[0m in \u001b[0;36m<module>\u001b[0;34m\u001b[0m\n\u001b[0;32m----> 1\u001b[0;31m \u001b[0mapps\u001b[0m\u001b[0;34m.\u001b[0m\u001b[0mdata\u001b[0m\u001b[0;34m\u001b[0m\u001b[0;34m\u001b[0m\u001b[0m\n\u001b[0m",
      "\u001b[0;31mNameError\u001b[0m: name 'apps' is not defined"
     ]
    }
   ],
   "source": []
  },
  {
   "cell_type": "code",
   "execution_count": 223,
   "metadata": {
    "scrolled": true
   },
   "outputs": [
    {
     "data": {
      "text/html": [
       "<div>\n",
       "<style scoped>\n",
       "    .dataframe tbody tr th:only-of-type {\n",
       "        vertical-align: middle;\n",
       "    }\n",
       "\n",
       "    .dataframe tbody tr th {\n",
       "        vertical-align: top;\n",
       "    }\n",
       "\n",
       "    .dataframe thead th {\n",
       "        text-align: right;\n",
       "    }\n",
       "</style>\n",
       "<table border=\"1\" class=\"dataframe\">\n",
       "  <thead>\n",
       "    <tr style=\"text-align: right;\">\n",
       "      <th></th>\n",
       "      <th>Rating</th>\n",
       "      <th>Reviews</th>\n",
       "      <th>Size</th>\n",
       "      <th>Installs</th>\n",
       "    </tr>\n",
       "  </thead>\n",
       "  <tbody>\n",
       "    <tr>\n",
       "      <th>count</th>\n",
       "      <td>9135.000000</td>\n",
       "      <td>9.135000e+03</td>\n",
       "      <td>9.135000e+03</td>\n",
       "      <td>9.135000e+03</td>\n",
       "    </tr>\n",
       "    <tr>\n",
       "      <th>mean</th>\n",
       "      <td>4.193574</td>\n",
       "      <td>2.493186e+05</td>\n",
       "      <td>2.306233e+07</td>\n",
       "      <td>7.122458e+06</td>\n",
       "    </tr>\n",
       "    <tr>\n",
       "      <th>std</th>\n",
       "      <td>0.503964</td>\n",
       "      <td>1.717130e+06</td>\n",
       "      <td>2.331538e+07</td>\n",
       "      <td>4.621827e+07</td>\n",
       "    </tr>\n",
       "    <tr>\n",
       "      <th>min</th>\n",
       "      <td>1.000000</td>\n",
       "      <td>0.000000e+00</td>\n",
       "      <td>8.500000e+05</td>\n",
       "      <td>0.000000e+00</td>\n",
       "    </tr>\n",
       "    <tr>\n",
       "      <th>25%</th>\n",
       "      <td>4.100000</td>\n",
       "      <td>2.200000e+01</td>\n",
       "      <td>5.500000e+06</td>\n",
       "      <td>1.000000e+03</td>\n",
       "    </tr>\n",
       "    <tr>\n",
       "      <th>50%</th>\n",
       "      <td>4.300000</td>\n",
       "      <td>7.420000e+02</td>\n",
       "      <td>1.400000e+07</td>\n",
       "      <td>1.000000e+05</td>\n",
       "    </tr>\n",
       "    <tr>\n",
       "      <th>75%</th>\n",
       "      <td>4.500000</td>\n",
       "      <td>2.516900e+04</td>\n",
       "      <td>3.200000e+07</td>\n",
       "      <td>1.000000e+06</td>\n",
       "    </tr>\n",
       "    <tr>\n",
       "      <th>max</th>\n",
       "      <td>5.000000</td>\n",
       "      <td>4.489389e+07</td>\n",
       "      <td>1.020000e+08</td>\n",
       "      <td>1.000000e+09</td>\n",
       "    </tr>\n",
       "  </tbody>\n",
       "</table>\n",
       "</div>"
      ],
      "text/plain": [
       "            Rating       Reviews          Size      Installs\n",
       "count  9135.000000  9.135000e+03  9.135000e+03  9.135000e+03\n",
       "mean      4.193574  2.493186e+05  2.306233e+07  7.122458e+06\n",
       "std       0.503964  1.717130e+06  2.331538e+07  4.621827e+07\n",
       "min       1.000000  0.000000e+00  8.500000e+05  0.000000e+00\n",
       "25%       4.100000  2.200000e+01  5.500000e+06  1.000000e+03\n",
       "50%       4.300000  7.420000e+02  1.400000e+07  1.000000e+05\n",
       "75%       4.500000  2.516900e+04  3.200000e+07  1.000000e+06\n",
       "max       5.000000  4.489389e+07  1.020000e+08  1.000000e+09"
      ]
     },
     "execution_count": 223,
     "metadata": {},
     "output_type": "execute_result"
    }
   ],
   "source": [
    "apps_data  = apps_data.describe()"
   ]
  },
  {
   "cell_type": "code",
   "execution_count": null,
   "metadata": {},
   "outputs": [],
   "source": []
  },
  {
   "cell_type": "markdown",
   "metadata": {},
   "source": [
    "### Visualization"
   ]
  },
  {
   "cell_type": "code",
   "execution_count": 224,
   "metadata": {},
   "outputs": [
    {
     "data": {
      "text/html": [
       "<div>\n",
       "<style scoped>\n",
       "    .dataframe tbody tr th:only-of-type {\n",
       "        vertical-align: middle;\n",
       "    }\n",
       "\n",
       "    .dataframe tbody tr th {\n",
       "        vertical-align: top;\n",
       "    }\n",
       "\n",
       "    .dataframe thead th {\n",
       "        text-align: right;\n",
       "    }\n",
       "</style>\n",
       "<table border=\"1\" class=\"dataframe\">\n",
       "  <thead>\n",
       "    <tr style=\"text-align: right;\">\n",
       "      <th></th>\n",
       "      <th>App</th>\n",
       "      <th>Category</th>\n",
       "      <th>Rating</th>\n",
       "      <th>Reviews</th>\n",
       "      <th>Size</th>\n",
       "      <th>Installs</th>\n",
       "      <th>Type</th>\n",
       "      <th>Price</th>\n",
       "      <th>Content Rating</th>\n",
       "      <th>Genres</th>\n",
       "      <th>Last Updated</th>\n",
       "      <th>Current Ver</th>\n",
       "      <th>Android Ver</th>\n",
       "    </tr>\n",
       "  </thead>\n",
       "  <tbody>\n",
       "    <tr>\n",
       "      <th>0</th>\n",
       "      <td>Photo Editor &amp; Candy Camera &amp; Grid &amp; ScrapBook</td>\n",
       "      <td>ART_AND_DESIGN</td>\n",
       "      <td>4.1</td>\n",
       "      <td>159</td>\n",
       "      <td>19000000.0</td>\n",
       "      <td>10000</td>\n",
       "      <td>Free</td>\n",
       "      <td>0</td>\n",
       "      <td>Everyone</td>\n",
       "      <td>Art &amp; Design</td>\n",
       "      <td>January 7, 2018</td>\n",
       "      <td>1.0.0</td>\n",
       "      <td>4.0.3 and up</td>\n",
       "    </tr>\n",
       "    <tr>\n",
       "      <th>1</th>\n",
       "      <td>Coloring book moana</td>\n",
       "      <td>ART_AND_DESIGN</td>\n",
       "      <td>3.9</td>\n",
       "      <td>967</td>\n",
       "      <td>14000000.0</td>\n",
       "      <td>500000</td>\n",
       "      <td>Free</td>\n",
       "      <td>0</td>\n",
       "      <td>Everyone</td>\n",
       "      <td>Art &amp; Design;Pretend Play</td>\n",
       "      <td>January 15, 2018</td>\n",
       "      <td>2.0.0</td>\n",
       "      <td>4.0.3 and up</td>\n",
       "    </tr>\n",
       "    <tr>\n",
       "      <th>2</th>\n",
       "      <td>U Launcher Lite – FREE Live Cool Themes, Hide ...</td>\n",
       "      <td>ART_AND_DESIGN</td>\n",
       "      <td>4.7</td>\n",
       "      <td>87510</td>\n",
       "      <td>8700000.0</td>\n",
       "      <td>5000000</td>\n",
       "      <td>Free</td>\n",
       "      <td>0</td>\n",
       "      <td>Everyone</td>\n",
       "      <td>Art &amp; Design</td>\n",
       "      <td>August 1, 2018</td>\n",
       "      <td>1.2.4</td>\n",
       "      <td>4.0.3 and up</td>\n",
       "    </tr>\n",
       "    <tr>\n",
       "      <th>3</th>\n",
       "      <td>Sketch - Draw &amp; Paint</td>\n",
       "      <td>ART_AND_DESIGN</td>\n",
       "      <td>4.5</td>\n",
       "      <td>215644</td>\n",
       "      <td>25000000.0</td>\n",
       "      <td>50000000</td>\n",
       "      <td>Free</td>\n",
       "      <td>0</td>\n",
       "      <td>Teen</td>\n",
       "      <td>Art &amp; Design</td>\n",
       "      <td>June 8, 2018</td>\n",
       "      <td>Varies with device</td>\n",
       "      <td>4.2 and up</td>\n",
       "    </tr>\n",
       "    <tr>\n",
       "      <th>4</th>\n",
       "      <td>Pixel Draw - Number Art Coloring Book</td>\n",
       "      <td>ART_AND_DESIGN</td>\n",
       "      <td>4.3</td>\n",
       "      <td>967</td>\n",
       "      <td>2800000.0</td>\n",
       "      <td>100000</td>\n",
       "      <td>Free</td>\n",
       "      <td>0</td>\n",
       "      <td>Everyone</td>\n",
       "      <td>Art &amp; Design;Creativity</td>\n",
       "      <td>June 20, 2018</td>\n",
       "      <td>1.1</td>\n",
       "      <td>4.4 and up</td>\n",
       "    </tr>\n",
       "  </tbody>\n",
       "</table>\n",
       "</div>"
      ],
      "text/plain": [
       "                                                 App        Category  Rating  \\\n",
       "0     Photo Editor & Candy Camera & Grid & ScrapBook  ART_AND_DESIGN     4.1   \n",
       "1                                Coloring book moana  ART_AND_DESIGN     3.9   \n",
       "2  U Launcher Lite – FREE Live Cool Themes, Hide ...  ART_AND_DESIGN     4.7   \n",
       "3                              Sketch - Draw & Paint  ART_AND_DESIGN     4.5   \n",
       "4              Pixel Draw - Number Art Coloring Book  ART_AND_DESIGN     4.3   \n",
       "\n",
       "   Reviews        Size  Installs  Type Price Content Rating  \\\n",
       "0      159  19000000.0     10000  Free     0       Everyone   \n",
       "1      967  14000000.0    500000  Free     0       Everyone   \n",
       "2    87510   8700000.0   5000000  Free     0       Everyone   \n",
       "3   215644  25000000.0  50000000  Free     0           Teen   \n",
       "4      967   2800000.0    100000  Free     0       Everyone   \n",
       "\n",
       "                      Genres      Last Updated         Current Ver  \\\n",
       "0               Art & Design   January 7, 2018               1.0.0   \n",
       "1  Art & Design;Pretend Play  January 15, 2018               2.0.0   \n",
       "2               Art & Design    August 1, 2018               1.2.4   \n",
       "3               Art & Design      June 8, 2018  Varies with device   \n",
       "4    Art & Design;Creativity     June 20, 2018                 1.1   \n",
       "\n",
       "    Android Ver  \n",
       "0  4.0.3 and up  \n",
       "1  4.0.3 and up  \n",
       "2  4.0.3 and up  \n",
       "3    4.2 and up  \n",
       "4    4.4 and up  "
      ]
     },
     "execution_count": 224,
     "metadata": {},
     "output_type": "execute_result"
    }
   ],
   "source": [
    "apps_data.head()"
   ]
  },
  {
   "cell_type": "code",
   "execution_count": 229,
   "metadata": {},
   "outputs": [
    {
     "data": {
      "text/plain": [
       "<matplotlib.axes._subplots.AxesSubplot at 0x7fe732393050>"
      ]
     },
     "execution_count": 229,
     "metadata": {},
     "output_type": "execute_result"
    },
    {
     "data": {
      "image/png": "[encoded data removed]",
      "text/plain": [
       "<Figure size 936x432 with 1 Axes>"
      ]
     },
     "metadata": {
      "needs_background": "light"
     },
     "output_type": "display_data"
    }
   ],
   "source": [
    "# распределение оценок пользователей\n",
    "apps_data.Rating.plot(kind='hist', \n",
    "                   bins=5,\n",
    "                   title='USer Score distribution',\n",
    "                   xlabel='USer score',\n",
    "                   ylabel='Games',\n",
    "             )"
   ]
  },
  {
   "cell_type": "markdown",
   "metadata": {},
   "source": [
    "# Создавая игру у вас самый большой шанс на успех"
   ]
  },
  {
   "cell_type": "code",
   "execution_count": 308,
   "metadata": {},
   "outputs": [
    {
     "data": {
      "text/plain": [
       "<matplotlib.axes._subplots.AxesSubplot at 0x7fe750536cd0>"
      ]
     },
     "execution_count": 308,
     "metadata": {},
     "output_type": "execute_result"
    },
    {
     "data": {
      "image/png": "[encoded data removed]",
      "text/plain": [
       "<Figure size 936x432 with 1 Axes>"
      ]
     },
     "metadata": {
      "needs_background": "light"
     },
     "output_type": "display_data"
    }
   ],
   "source": [
    "grouped_by_category = apps_data.groupby('Category').mean()\n",
    "score = grouped_by_category['Installs']*grouped_by_category['Rating']\n",
    "score.sort_values().plot(kind = 'bar')"
   ]
  },
  {
   "cell_type": "markdown",
   "metadata": {},
   "source": [
    "# Семейных приложений больше всего"
   ]
  },
  {
   "cell_type": "code",
   "execution_count": 241,
   "metadata": {},
   "outputs": [
    {
     "data": {
      "text/plain": [
       "<matplotlib.axes._subplots.AxesSubplot at 0x7fe73598c090>"
      ]
     },
     "execution_count": 241,
     "metadata": {},
     "output_type": "execute_result"
    },
    {
     "data": {
      "image/png": "[encoded data removed]",
      "text/plain": [
       "<Figure size 936x432 with 1 Axes>"
      ]
     },
     "metadata": {},
     "output_type": "display_data"
    }
   ],
   "source": [
    "# количество apps по categories\n",
    "apps_data.Category.value_counts().sort_values(ascending = False).head(5).plot(kind='pie',\n",
    "                   title='Quantity of games by platforms')"
   ]
  },
  {
   "cell_type": "code",
   "execution_count": 244,
   "metadata": {},
   "outputs": [
    {
     "data": {
      "text/plain": [
       "<matplotlib.axes._subplots.AxesSubplot at 0x7fe733017250>"
      ]
     },
     "execution_count": 244,
     "metadata": {},
     "output_type": "execute_result"
    },
    {
     "data": {
      "image/png": "[encoded data removed]",
      "text/plain": [
       "<Figure size 936x432 with 1 Axes>"
      ]
     },
     "metadata": {
      "needs_background": "light"
     },
     "output_type": "display_data"
    }
   ],
   "source": [
    "apps_data.Rating.plot(kind='box')"
   ]
  },
  {
   "cell_type": "code",
   "execution_count": 245,
   "metadata": {},
   "outputs": [
    {
     "data": {
      "text/html": [
       "<div>\n",
       "<style scoped>\n",
       "    .dataframe tbody tr th:only-of-type {\n",
       "        vertical-align: middle;\n",
       "    }\n",
       "\n",
       "    .dataframe tbody tr th {\n",
       "        vertical-align: top;\n",
       "    }\n",
       "\n",
       "    .dataframe thead th {\n",
       "        text-align: right;\n",
       "    }\n",
       "</style>\n",
       "<table border=\"1\" class=\"dataframe\">\n",
       "  <thead>\n",
       "    <tr style=\"text-align: right;\">\n",
       "      <th></th>\n",
       "      <th>App</th>\n",
       "      <th>Category</th>\n",
       "      <th>Rating</th>\n",
       "      <th>Reviews</th>\n",
       "      <th>Size</th>\n",
       "      <th>Installs</th>\n",
       "      <th>Type</th>\n",
       "      <th>Price</th>\n",
       "      <th>Content Rating</th>\n",
       "      <th>Genres</th>\n",
       "      <th>Last Updated</th>\n",
       "      <th>Current Ver</th>\n",
       "      <th>Android Ver</th>\n",
       "    </tr>\n",
       "  </thead>\n",
       "  <tbody>\n",
       "    <tr>\n",
       "      <th>0</th>\n",
       "      <td>Photo Editor &amp; Candy Camera &amp; Grid &amp; ScrapBook</td>\n",
       "      <td>ART_AND_DESIGN</td>\n",
       "      <td>4.1</td>\n",
       "      <td>159</td>\n",
       "      <td>19000000.0</td>\n",
       "      <td>10000</td>\n",
       "      <td>Free</td>\n",
       "      <td>0</td>\n",
       "      <td>Everyone</td>\n",
       "      <td>Art &amp; Design</td>\n",
       "      <td>January 7, 2018</td>\n",
       "      <td>1.0.0</td>\n",
       "      <td>4.0.3 and up</td>\n",
       "    </tr>\n",
       "    <tr>\n",
       "      <th>1</th>\n",
       "      <td>Coloring book moana</td>\n",
       "      <td>ART_AND_DESIGN</td>\n",
       "      <td>3.9</td>\n",
       "      <td>967</td>\n",
       "      <td>14000000.0</td>\n",
       "      <td>500000</td>\n",
       "      <td>Free</td>\n",
       "      <td>0</td>\n",
       "      <td>Everyone</td>\n",
       "      <td>Art &amp; Design;Pretend Play</td>\n",
       "      <td>January 15, 2018</td>\n",
       "      <td>2.0.0</td>\n",
       "      <td>4.0.3 and up</td>\n",
       "    </tr>\n",
       "    <tr>\n",
       "      <th>2</th>\n",
       "      <td>U Launcher Lite – FREE Live Cool Themes, Hide ...</td>\n",
       "      <td>ART_AND_DESIGN</td>\n",
       "      <td>4.7</td>\n",
       "      <td>87510</td>\n",
       "      <td>8700000.0</td>\n",
       "      <td>5000000</td>\n",
       "      <td>Free</td>\n",
       "      <td>0</td>\n",
       "      <td>Everyone</td>\n",
       "      <td>Art &amp; Design</td>\n",
       "      <td>August 1, 2018</td>\n",
       "      <td>1.2.4</td>\n",
       "      <td>4.0.3 and up</td>\n",
       "    </tr>\n",
       "    <tr>\n",
       "      <th>3</th>\n",
       "      <td>Sketch - Draw &amp; Paint</td>\n",
       "      <td>ART_AND_DESIGN</td>\n",
       "      <td>4.5</td>\n",
       "      <td>215644</td>\n",
       "      <td>25000000.0</td>\n",
       "      <td>50000000</td>\n",
       "      <td>Free</td>\n",
       "      <td>0</td>\n",
       "      <td>Teen</td>\n",
       "      <td>Art &amp; Design</td>\n",
       "      <td>June 8, 2018</td>\n",
       "      <td>Varies with device</td>\n",
       "      <td>4.2 and up</td>\n",
       "    </tr>\n",
       "    <tr>\n",
       "      <th>4</th>\n",
       "      <td>Pixel Draw - Number Art Coloring Book</td>\n",
       "      <td>ART_AND_DESIGN</td>\n",
       "      <td>4.3</td>\n",
       "      <td>967</td>\n",
       "      <td>2800000.0</td>\n",
       "      <td>100000</td>\n",
       "      <td>Free</td>\n",
       "      <td>0</td>\n",
       "      <td>Everyone</td>\n",
       "      <td>Art &amp; Design;Creativity</td>\n",
       "      <td>June 20, 2018</td>\n",
       "      <td>1.1</td>\n",
       "      <td>4.4 and up</td>\n",
       "    </tr>\n",
       "  </tbody>\n",
       "</table>\n",
       "</div>"
      ],
      "text/plain": [
       "                                                 App        Category  Rating  \\\n",
       "0     Photo Editor & Candy Camera & Grid & ScrapBook  ART_AND_DESIGN     4.1   \n",
       "1                                Coloring book moana  ART_AND_DESIGN     3.9   \n",
       "2  U Launcher Lite – FREE Live Cool Themes, Hide ...  ART_AND_DESIGN     4.7   \n",
       "3                              Sketch - Draw & Paint  ART_AND_DESIGN     4.5   \n",
       "4              Pixel Draw - Number Art Coloring Book  ART_AND_DESIGN     4.3   \n",
       "\n",
       "   Reviews        Size  Installs  Type Price Content Rating  \\\n",
       "0      159  19000000.0     10000  Free     0       Everyone   \n",
       "1      967  14000000.0    500000  Free     0       Everyone   \n",
       "2    87510   8700000.0   5000000  Free     0       Everyone   \n",
       "3   215644  25000000.0  50000000  Free     0           Teen   \n",
       "4      967   2800000.0    100000  Free     0       Everyone   \n",
       "\n",
       "                      Genres      Last Updated         Current Ver  \\\n",
       "0               Art & Design   January 7, 2018               1.0.0   \n",
       "1  Art & Design;Pretend Play  January 15, 2018               2.0.0   \n",
       "2               Art & Design    August 1, 2018               1.2.4   \n",
       "3               Art & Design      June 8, 2018  Varies with device   \n",
       "4    Art & Design;Creativity     June 20, 2018                 1.1   \n",
       "\n",
       "    Android Ver  \n",
       "0  4.0.3 and up  \n",
       "1  4.0.3 and up  \n",
       "2  4.0.3 and up  \n",
       "3    4.2 and up  \n",
       "4    4.4 and up  "
      ]
     },
     "execution_count": 245,
     "metadata": {},
     "output_type": "execute_result"
    }
   ],
   "source": [
    "apps_data.head(5)"
   ]
  },
  {
   "cell_type": "code",
   "execution_count": 252,
   "metadata": {},
   "outputs": [],
   "source": [
    "import seaborn as sns"
   ]
  },
  {
   "cell_type": "code",
   "execution_count": 254,
   "metadata": {},
   "outputs": [
    {
     "data": {
      "text/plain": [
       "<seaborn.axisgrid.PairGrid at 0x7fe737d56f50>"
      ]
     },
     "execution_count": 254,
     "metadata": {},
     "output_type": "execute_result"
    },
    {
     "data": {
      "image/png": "[encoded data removed]",
      "text/plain": [
       "<Figure size 720x720 with 20 Axes>"
      ]
     },
     "metadata": {
      "needs_background": "light"
     },
     "output_type": "display_data"
    }
   ],
   "source": [
    "sns.pairplot(apps_data[['Category', 'Rating', 'Reviews','Size', 'Installs']])"
   ]
  },
  {
   "cell_type": "code",
   "execution_count": 258,
   "metadata": {},
   "outputs": [
    {
     "data": {
      "text/plain": [
       "<matplotlib.axes._subplots.AxesSubplot at 0x7fe72ec50950>"
      ]
     },
     "execution_count": 258,
     "metadata": {},
     "output_type": "execute_result"
    },
    {
     "data": {
      "image/png": "[encoded data removed]",
      "text/plain": [
       "<Figure size 936x432 with 1 Axes>"
      ]
     },
     "metadata": {
      "needs_background": "light"
     },
     "output_type": "display_data"
    }
   ],
   "source": [
    "apps_data.plot(kind = 'scatter', y='Size', x = 'Installs')"
   ]
  },
  {
   "cell_type": "code",
   "execution_count": 260,
   "metadata": {},
   "outputs": [
    {
     "data": {
      "text/plain": [
       "<matplotlib.axes._subplots.AxesSubplot at 0x7fe72cae58d0>"
      ]
     },
     "execution_count": 260,
     "metadata": {},
     "output_type": "execute_result"
    },
    {
     "data": {
      "image/png": "[encoded data removed]",
      "text/plain": [
       "<Figure size 936x432 with 1 Axes>"
      ]
     },
     "metadata": {
      "needs_background": "light"
     },
     "output_type": "display_data"
    }
   ],
   "source": [
    "top_categories = apps_data.Category.value_counts().sort_values(ascending = False).head(10).index.values\n",
    "top_categories\n",
    "sns.boxplot(x=\"Category\", y=\"Rating\", \n",
    "            data=apps_data[apps_data.Category.isin(top_categories)])"
   ]
  },
  {
   "cell_type": "code",
   "execution_count": 262,
   "metadata": {},
   "outputs": [
    {
     "data": {
      "text/plain": [
       "<matplotlib.axes._subplots.AxesSubplot at 0x7fe72fab2610>"
      ]
     },
     "execution_count": 262,
     "metadata": {},
     "output_type": "execute_result"
    },
    {
     "data": {
      "image/png": "[encoded data removed]",
      "text/plain": [
       "<Figure size 936x432 with 1 Axes>"
      ]
     },
     "metadata": {
      "needs_background": "light"
     },
     "output_type": "display_data"
    }
   ],
   "source": [
    "apps_data.groupby('Category')['Rating'].mean().sort_values().plot(kind = 'bar')"
   ]
  },
  {
   "cell_type": "markdown",
   "metadata": {},
   "source": [
    "# Чем меньше возрастных ограничений, тем больше скачиваний"
   ]
  },
  {
   "cell_type": "code",
   "execution_count": 311,
   "metadata": {},
   "outputs": [
    {
     "data": {
      "text/html": [
       "<div>\n",
       "<style scoped>\n",
       "    .dataframe tbody tr th:only-of-type {\n",
       "        vertical-align: middle;\n",
       "    }\n",
       "\n",
       "    .dataframe tbody tr th {\n",
       "        vertical-align: top;\n",
       "    }\n",
       "\n",
       "    .dataframe thead th {\n",
       "        text-align: right;\n",
       "    }\n",
       "</style>\n",
       "<table border=\"1\" class=\"dataframe\">\n",
       "  <thead>\n",
       "    <tr style=\"text-align: right;\">\n",
       "      <th>Content Rating</th>\n",
       "      <th>Adults only 18+</th>\n",
       "      <th>Everyone</th>\n",
       "      <th>Everyone 10+</th>\n",
       "      <th>Mature 17+</th>\n",
       "      <th>Teen</th>\n",
       "      <th>Unrated</th>\n",
       "    </tr>\n",
       "    <tr>\n",
       "      <th>Category</th>\n",
       "      <th></th>\n",
       "      <th></th>\n",
       "      <th></th>\n",
       "      <th></th>\n",
       "      <th></th>\n",
       "      <th></th>\n",
       "    </tr>\n",
       "  </thead>\n",
       "  <tbody>\n",
       "    <tr>\n",
       "      <th>BUSINESS</th>\n",
       "      <td>0.0</td>\n",
       "      <td>5.359755e+08</td>\n",
       "      <td>1.000000e+02</td>\n",
       "      <td>5.0</td>\n",
       "      <td>1.029300e+05</td>\n",
       "      <td>0.0</td>\n",
       "    </tr>\n",
       "    <tr>\n",
       "      <th>FAMILY</th>\n",
       "      <td>0.0</td>\n",
       "      <td>4.787691e+09</td>\n",
       "      <td>1.224404e+09</td>\n",
       "      <td>48930032.0</td>\n",
       "      <td>7.377073e+08</td>\n",
       "      <td>500.0</td>\n",
       "    </tr>\n",
       "    <tr>\n",
       "      <th>FINANCE</th>\n",
       "      <td>0.0</td>\n",
       "      <td>3.158115e+08</td>\n",
       "      <td>0.000000e+00</td>\n",
       "      <td>0.0</td>\n",
       "      <td>1.112000e+06</td>\n",
       "      <td>0.0</td>\n",
       "    </tr>\n",
       "    <tr>\n",
       "      <th>GAME</th>\n",
       "      <td>0.0</td>\n",
       "      <td>1.771218e+10</td>\n",
       "      <td>8.683260e+09</td>\n",
       "      <td>348622210.0</td>\n",
       "      <td>3.130503e+09</td>\n",
       "      <td>0.0</td>\n",
       "    </tr>\n",
       "    <tr>\n",
       "      <th>LIFESTYLE</th>\n",
       "      <td>0.0</td>\n",
       "      <td>3.168270e+08</td>\n",
       "      <td>1.010100e+07</td>\n",
       "      <td>102015000.0</td>\n",
       "      <td>8.877821e+06</td>\n",
       "      <td>0.0</td>\n",
       "    </tr>\n",
       "    <tr>\n",
       "      <th>MEDICAL</th>\n",
       "      <td>0.0</td>\n",
       "      <td>4.624486e+07</td>\n",
       "      <td>1.321100e+05</td>\n",
       "      <td>105800.0</td>\n",
       "      <td>6.111000e+04</td>\n",
       "      <td>0.0</td>\n",
       "    </tr>\n",
       "    <tr>\n",
       "      <th>PERSONALIZATION</th>\n",
       "      <td>0.0</td>\n",
       "      <td>7.532314e+08</td>\n",
       "      <td>2.510000e+06</td>\n",
       "      <td>1721010.0</td>\n",
       "      <td>2.407063e+08</td>\n",
       "      <td>0.0</td>\n",
       "    </tr>\n",
       "    <tr>\n",
       "      <th>PRODUCTIVITY</th>\n",
       "      <td>0.0</td>\n",
       "      <td>2.742305e+09</td>\n",
       "      <td>5.000000e+03</td>\n",
       "      <td>1000.0</td>\n",
       "      <td>2.115000e+03</td>\n",
       "      <td>0.0</td>\n",
       "    </tr>\n",
       "    <tr>\n",
       "      <th>SPORTS</th>\n",
       "      <td>1000000.0</td>\n",
       "      <td>9.458269e+08</td>\n",
       "      <td>5.056100e+07</td>\n",
       "      <td>1000000.0</td>\n",
       "      <td>1.405616e+08</td>\n",
       "      <td>0.0</td>\n",
       "    </tr>\n",
       "    <tr>\n",
       "      <th>TOOLS</th>\n",
       "      <td>0.0</td>\n",
       "      <td>3.466520e+09</td>\n",
       "      <td>0.000000e+00</td>\n",
       "      <td>5100.0</td>\n",
       "      <td>6.002010e+07</td>\n",
       "      <td>50000.0</td>\n",
       "    </tr>\n",
       "  </tbody>\n",
       "</table>\n",
       "</div>"
      ],
      "text/plain": [
       "Content Rating   Adults only 18+      Everyone  Everyone 10+   Mature 17+  \\\n",
       "Category                                                                    \n",
       "BUSINESS                     0.0  5.359755e+08  1.000000e+02          5.0   \n",
       "FAMILY                       0.0  4.787691e+09  1.224404e+09   48930032.0   \n",
       "FINANCE                      0.0  3.158115e+08  0.000000e+00          0.0   \n",
       "GAME                         0.0  1.771218e+10  8.683260e+09  348622210.0   \n",
       "LIFESTYLE                    0.0  3.168270e+08  1.010100e+07  102015000.0   \n",
       "MEDICAL                      0.0  4.624486e+07  1.321100e+05     105800.0   \n",
       "PERSONALIZATION              0.0  7.532314e+08  2.510000e+06    1721010.0   \n",
       "PRODUCTIVITY                 0.0  2.742305e+09  5.000000e+03       1000.0   \n",
       "SPORTS                 1000000.0  9.458269e+08  5.056100e+07    1000000.0   \n",
       "TOOLS                        0.0  3.466520e+09  0.000000e+00       5100.0   \n",
       "\n",
       "Content Rating           Teen  Unrated  \n",
       "Category                                \n",
       "BUSINESS         1.029300e+05      0.0  \n",
       "FAMILY           7.377073e+08    500.0  \n",
       "FINANCE          1.112000e+06      0.0  \n",
       "GAME             3.130503e+09      0.0  \n",
       "LIFESTYLE        8.877821e+06      0.0  \n",
       "MEDICAL          6.111000e+04      0.0  \n",
       "PERSONALIZATION  2.407063e+08      0.0  \n",
       "PRODUCTIVITY     2.115000e+03      0.0  \n",
       "SPORTS           1.405616e+08      0.0  \n",
       "TOOLS            6.002010e+07  50000.0  "
      ]
     },
     "execution_count": 311,
     "metadata": {},
     "output_type": "execute_result"
    }
   ],
   "source": [
    "category_content_sales = apps_data[apps_data.Category.isin(top_categories)].pivot_table(\n",
    "                        index='Category', \n",
    "                        columns='Content Rating', \n",
    "                        values='Installs', \n",
    "                        aggfunc='sum').fillna(0)\n",
    "\n",
    "category_content_sales"
   ]
  },
  {
   "cell_type": "code",
   "execution_count": 312,
   "metadata": {},
   "outputs": [
    {
     "data": {
      "text/plain": [
       "<matplotlib.axes._subplots.AxesSubplot at 0x7fe7411e7f10>"
      ]
     },
     "execution_count": 312,
     "metadata": {},
     "output_type": "execute_result"
    },
    {
     "data": {
      "image/png": "[encoded data removed]",
      "text/plain": [
       "<Figure size 936x432 with 2 Axes>"
      ]
     },
     "metadata": {
      "needs_background": "light"
     },
     "output_type": "display_data"
    }
   ],
   "source": [
    "sns.heatmap(category_content_sales)"
   ]
  },
  {
   "cell_type": "code",
   "execution_count": 285,
   "metadata": {},
   "outputs": [
    {
     "data": {
      "text/plain": [
       "<matplotlib.axes._subplots.AxesSubplot at 0x7fe73115a790>"
      ]
     },
     "execution_count": 285,
     "metadata": {},
     "output_type": "execute_result"
    },
    {
     "data": {
      "image/png": "[encoded data removed]",
      "text/plain": [
       "<Figure size 936x432 with 1 Axes>"
      ]
     },
     "metadata": {
      "needs_background": "light"
     },
     "output_type": "display_data"
    }
   ],
   "source": [
    "apps_data.groupby('Content Rating').sum().Installs.sort_values().plot(kind = 'bar')"
   ]
  },
  {
   "cell_type": "code",
   "execution_count": 294,
   "metadata": {},
   "outputs": [
    {
     "data": {
      "text/plain": [
       "Category\n",
       "ART_AND_DESIGN         1.628411e+06\n",
       "AUTO_AND_VEHICLES      5.836028e+05\n",
       "BEAUTY                 2.914245e+05\n",
       "BOOKS_AND_REFERENCE    7.140871e+05\n",
       "BUSINESS               1.340196e+06\n",
       "COMICS                 3.448265e+05\n",
       "COMMUNICATION          1.864884e+07\n",
       "DATING                 6.692491e+05\n",
       "EDUCATION              2.511730e+06\n",
       "ENTERTAINMENT          1.056622e+07\n",
       "EVENTS                 1.872307e+05\n",
       "FAMILY                 3.717186e+06\n",
       "FINANCE                1.032324e+06\n",
       "FOOD_AND_DRINK         1.776887e+06\n",
       "GAME                   2.943307e+07\n",
       "HEALTH_AND_FITNESS     3.289439e+06\n",
       "HOUSE_AND_HOME         1.104595e+06\n",
       "LIBRARIES_AND_DEMO     7.518014e+05\n",
       "LIFESTYLE              1.269046e+06\n",
       "MAPS_AND_NAVIGATION    1.620647e+06\n",
       "MEDICAL                1.072440e+05\n",
       "NEWS_AND_MAGAZINES     1.968521e+07\n",
       "PARENTING              4.439076e+05\n",
       "PERSONALIZATION        2.827674e+06\n",
       "PHOTOGRAPHY            1.007046e+07\n",
       "PRODUCTIVITY           9.050537e+06\n",
       "SHOPPING               7.483825e+06\n",
       "SOCIAL                 4.406023e+06\n",
       "SPORTS                 3.662217e+06\n",
       "TOOLS                  4.785068e+06\n",
       "TRAVEL_AND_LOCAL       1.857636e+06\n",
       "VIDEO_PLAYERS          6.808151e+06\n",
       "WEATHER                2.443860e+06\n",
       "Name: Installs, dtype: float64"
      ]
     },
     "execution_count": 294,
     "metadata": {},
     "output_type": "execute_result"
    }
   ],
   "source": [
    "downloadsapps_data.groupby('Category').Installs.sum() / apps_data.groupby('Category').Installs.count()"
   ]
  },
  {
   "cell_type": "markdown",
   "metadata": {},
   "source": [
    "## Очень слабая корелляция между оценкой и скачиваниями, что может указывать на:"
   ]
  },
  {
   "cell_type": "markdown",
   "metadata": {},
   "source": [
    "### 1) Оценка не влияет на скачивания\n",
    "### 2) Плохое качество данных GIGO"
   ]
  },
  {
   "cell_type": "code",
   "execution_count": 314,
   "metadata": {},
   "outputs": [
    {
     "data": {
      "text/plain": [
       "<matplotlib.axes._subplots.AxesSubplot at 0x7fe711d72a90>"
      ]
     },
     "execution_count": 314,
     "metadata": {},
     "output_type": "execute_result"
    },
    {
     "data": {
      "image/png": "[encoded data removed]",
      "text/plain": [
       "<Figure size 936x432 with 1 Axes>"
      ]
     },
     "metadata": {
      "needs_background": "light"
     },
     "output_type": "display_data"
    }
   ],
   "source": [
    "apps_data.plot(kind='scatter', y = 'Installs', x = 'Rating')"
   ]
  },
  {
   "cell_type": "code",
   "execution_count": null,
   "metadata": {},
   "outputs": [],
   "source": []
  }
 ],
 "metadata": {
  "kernelspec": {
   "display_name": "Python 3",
   "language": "python",
   "name": "python3"
  },
  "language_info": {
   "codemirror_mode": {
    "name": "ipython",
    "version": 3
   },
   "file_extension": ".py",
   "mimetype": "text/x-python",
   "name": "python",
   "nbconvert_exporter": "python",
   "pygments_lexer": "ipython3",
   "version": "3.7.6"
  }
 },
 "nbformat": 4,
 "nbformat_minor": 4
}
