{
 "cells": [
  {
   "cell_type": "code",
   "execution_count": 54,
   "metadata": {},
   "outputs": [],
   "source": [
    "def bubbleSort(array):\n",
    "    # Write your code here.\n",
    "    isSorted = False\n",
    "    while not isSorted:\n",
    "        isSorted = True\n",
    "        for i in range(len(array)-1):\n",
    "            first = array[i]\n",
    "            second = array[i+1]\n",
    "            print(f'i = {i} first = {first}, second = {second}')\n",
    "\n",
    "        # make a swap\n",
    "            if first > second:\n",
    "                isSorted = False\n",
    "                print(array)\n",
    "                array[i] = second\n",
    "                array[i+1] = first\n",
    "                print('swap made')\n",
    "                print(array)\n",
    "                print('\\n')  \n",
    "                \n",
    "    return array"
   ]
  },
  {
   "cell_type": "code",
   "execution_count": 55,
   "metadata": {},
   "outputs": [
    {
     "name": "stdout",
     "output_type": "stream",
     "text": [
      "i = 0 first = 1, second = 12\n",
      "i = 1 first = 12, second = 13\n",
      "i = 2 first = 13, second = 2\n",
      "[1, 12, 13, 2, 3, 1, 3, 10]\n",
      "swap made\n",
      "[1, 12, 2, 13, 3, 1, 3, 10]\n",
      "\n",
      "\n",
      "i = 3 first = 13, second = 3\n",
      "[1, 12, 2, 13, 3, 1, 3, 10]\n",
      "swap made\n",
      "[1, 12, 2, 3, 13, 1, 3, 10]\n",
      "\n",
      "\n",
      "i = 4 first = 13, second = 1\n",
      "[1, 12, 2, 3, 13, 1, 3, 10]\n",
      "swap made\n",
      "[1, 12, 2, 3, 1, 13, 3, 10]\n",
      "\n",
      "\n",
      "i = 5 first = 13, second = 3\n",
      "[1, 12, 2, 3, 1, 13, 3, 10]\n",
      "swap made\n",
      "[1, 12, 2, 3, 1, 3, 13, 10]\n",
      "\n",
      "\n",
      "i = 6 first = 13, second = 10\n",
      "[1, 12, 2, 3, 1, 3, 13, 10]\n",
      "swap made\n",
      "[1, 12, 2, 3, 1, 3, 10, 13]\n",
      "\n",
      "\n",
      "i = 0 first = 1, second = 12\n",
      "i = 1 first = 12, second = 2\n",
      "[1, 12, 2, 3, 1, 3, 10, 13]\n",
      "swap made\n",
      "[1, 2, 12, 3, 1, 3, 10, 13]\n",
      "\n",
      "\n",
      "i = 2 first = 12, second = 3\n",
      "[1, 2, 12, 3, 1, 3, 10, 13]\n",
      "swap made\n",
      "[1, 2, 3, 12, 1, 3, 10, 13]\n",
      "\n",
      "\n",
      "i = 3 first = 12, second = 1\n",
      "[1, 2, 3, 12, 1, 3, 10, 13]\n",
      "swap made\n",
      "[1, 2, 3, 1, 12, 3, 10, 13]\n",
      "\n",
      "\n",
      "i = 4 first = 12, second = 3\n",
      "[1, 2, 3, 1, 12, 3, 10, 13]\n",
      "swap made\n",
      "[1, 2, 3, 1, 3, 12, 10, 13]\n",
      "\n",
      "\n",
      "i = 5 first = 12, second = 10\n",
      "[1, 2, 3, 1, 3, 12, 10, 13]\n",
      "swap made\n",
      "[1, 2, 3, 1, 3, 10, 12, 13]\n",
      "\n",
      "\n",
      "i = 6 first = 12, second = 13\n",
      "i = 0 first = 1, second = 2\n",
      "i = 1 first = 2, second = 3\n",
      "i = 2 first = 3, second = 1\n",
      "[1, 2, 3, 1, 3, 10, 12, 13]\n",
      "swap made\n",
      "[1, 2, 1, 3, 3, 10, 12, 13]\n",
      "\n",
      "\n",
      "i = 3 first = 3, second = 3\n",
      "i = 4 first = 3, second = 10\n",
      "i = 5 first = 10, second = 12\n",
      "i = 6 first = 12, second = 13\n",
      "i = 0 first = 1, second = 2\n",
      "i = 1 first = 2, second = 1\n",
      "[1, 2, 1, 3, 3, 10, 12, 13]\n",
      "swap made\n",
      "[1, 1, 2, 3, 3, 10, 12, 13]\n",
      "\n",
      "\n",
      "i = 2 first = 2, second = 3\n",
      "i = 3 first = 3, second = 3\n",
      "i = 4 first = 3, second = 10\n",
      "i = 5 first = 10, second = 12\n",
      "i = 6 first = 12, second = 13\n",
      "i = 0 first = 1, second = 1\n",
      "i = 1 first = 1, second = 2\n",
      "i = 2 first = 2, second = 3\n",
      "i = 3 first = 3, second = 3\n",
      "i = 4 first = 3, second = 10\n",
      "i = 5 first = 10, second = 12\n",
      "i = 6 first = 12, second = 13\n"
     ]
    },
    {
     "data": {
      "text/plain": [
       "[1, 1, 2, 3, 3, 10, 12, 13]"
      ]
     },
     "execution_count": 55,
     "metadata": {},
     "output_type": "execute_result"
    }
   ],
   "source": [
    "bubbleSort([1,12,13,2,3,1,3,10])"
   ]
  },
  {
   "cell_type": "code",
   "execution_count": 52,
   "metadata": {},
   "outputs": [],
   "source": [
    "def bubbleSort(array):\n",
    "    # Write your code here.\n",
    "    for i in range(len(array)-1):\n",
    "        swaps = 1\n",
    "        first = array[i]\n",
    "        second = array[i+1]\n",
    "        print(f'i = {i} first = {first}, second = {second}')"
   ]
  },
  {
   "cell_type": "code",
   "execution_count": 53,
   "metadata": {},
   "outputs": [
    {
     "name": "stdout",
     "output_type": "stream",
     "text": [
      "i = 0 first = 0, second = 1\n",
      "i = 1 first = 1, second = 2\n",
      "i = 2 first = 2, second = 3\n",
      "i = 3 first = 3, second = 4\n",
      "i = 4 first = 4, second = 5\n"
     ]
    }
   ],
   "source": [
    "bubbleSort([0,1,2,3,4,5])"
   ]
  },
  {
   "cell_type": "markdown",
   "metadata": {},
   "source": [
    "# 3"
   ]
  },
  {
   "cell_type": "markdown",
   "metadata": {},
   "source": [
    "### К домашнему заданию, задача 2\n",
    "Дана статистика услуг перевозок клиентов компании по типам:\n",
    "- rzd - железнодорожные перевозки\n",
    "- auto - автомобильные перевозки\n",
    "- air - воздушные перевозки\n",
    "- client_base - адреса клиентов"
   ]
  },
  {
   "cell_type": "code",
   "execution_count": 56,
   "metadata": {},
   "outputs": [
    {
     "ename": "NameError",
     "evalue": "name 'pd' is not defined",
     "output_type": "error",
     "traceback": [
      "\u001b[0;31m---------------------------------------------------------------------------\u001b[0m",
      "\u001b[0;31mNameError\u001b[0m                                 Traceback (most recent call last)",
      "\u001b[0;32m<ipython-input-56-e8700f115c30>\u001b[0m in \u001b[0;36m<module>\u001b[0;34m\u001b[0m\n\u001b[0;32m----> 1\u001b[0;31m rzd = pd.DataFrame(\n\u001b[0m\u001b[1;32m      2\u001b[0m     {\n\u001b[1;32m      3\u001b[0m         \u001b[0;34m'client_id'\u001b[0m\u001b[0;34m:\u001b[0m \u001b[0;34m[\u001b[0m\u001b[0;36m111\u001b[0m\u001b[0;34m,\u001b[0m \u001b[0;36m112\u001b[0m\u001b[0;34m,\u001b[0m \u001b[0;36m113\u001b[0m\u001b[0;34m,\u001b[0m \u001b[0;36m114\u001b[0m\u001b[0;34m,\u001b[0m \u001b[0;36m115\u001b[0m\u001b[0;34m]\u001b[0m\u001b[0;34m,\u001b[0m\u001b[0;34m\u001b[0m\u001b[0;34m\u001b[0m\u001b[0m\n\u001b[1;32m      4\u001b[0m         \u001b[0;34m'rzd_revenue'\u001b[0m\u001b[0;34m:\u001b[0m \u001b[0;34m[\u001b[0m\u001b[0;36m1093\u001b[0m\u001b[0;34m,\u001b[0m \u001b[0;36m2810\u001b[0m\u001b[0;34m,\u001b[0m \u001b[0;36m10283\u001b[0m\u001b[0;34m,\u001b[0m \u001b[0;36m5774\u001b[0m\u001b[0;34m,\u001b[0m \u001b[0;36m981\u001b[0m\u001b[0;34m]\u001b[0m\u001b[0;34m\u001b[0m\u001b[0;34m\u001b[0m\u001b[0m\n\u001b[1;32m      5\u001b[0m     }\n",
      "\u001b[0;31mNameError\u001b[0m: name 'pd' is not defined"
     ]
    }
   ],
   "source": [
    "rzd = pd.DataFrame(\n",
    "    {\n",
    "        'client_id': [111, 112, 113, 114, 115],\n",
    "        'rzd_revenue': [1093, 2810, 10283, 5774, 981]\n",
    "    }\n",
    ")\n",
    "rzd"
   ]
  },
  {
   "cell_type": "code",
   "execution_count": null,
   "metadata": {},
   "outputs": [],
   "source": [
    "auto = pd.DataFrame(\n",
    "    {\n",
    "        'client_id': [113, 114, 115, 116, 117],\n",
    "        'auto_revenue': [57483, 83, 912, 4834, 98]\n",
    "    }\n",
    ")\n",
    "auto"
   ]
  },
  {
   "cell_type": "code",
   "execution_count": null,
   "metadata": {},
   "outputs": [],
   "source": [
    "air = pd.DataFrame(\n",
    "    {\n",
    "        'client_id': [115, 116, 117, 118],\n",
    "        'air_revenue': [81, 4, 13, 173]\n",
    "    }\n",
    ")\n",
    "air"
   ]
  },
  {
   "cell_type": "code",
   "execution_count": null,
   "metadata": {},
   "outputs": [],
   "source": [
    "client_base = pd.DataFrame(\n",
    "    {\n",
    "        'client_id': [111, 112, 113, 114, 115, 116, 117, 118],\n",
    "        'address': ['Комсомольская 4', 'Энтузиастов 8а', 'Левобережная 1а', 'Мира 14', 'ЗЖБИиДК 1', \n",
    "                    'Строителей 18', 'Панфиловская 33', 'Мастеркова 4']\n",
    "    }\n",
    ")\n",
    "client_base"
   ]
  },
  {
   "cell_type": "code",
   "execution_count": null,
   "metadata": {},
   "outputs": [],
   "source": []
  },
  {
   "cell_type": "code",
   "execution_count": null,
   "metadata": {},
   "outputs": [],
   "source": []
  },
  {
   "cell_type": "code",
   "execution_count": null,
   "metadata": {},
   "outputs": [],
   "source": []
  }
 ],
 "metadata": {
  "kernelspec": {
   "display_name": "Python 3",
   "language": "python",
   "name": "python3"
  },
  "language_info": {
   "codemirror_mode": {
    "name": "ipython",
    "version": 3
   },
   "file_extension": ".py",
   "mimetype": "text/x-python",
   "name": "python",
   "nbconvert_exporter": "python",
   "pygments_lexer": "ipython3",
   "version": "3.7.6"
  }
 },
 "nbformat": 4,
 "nbformat_minor": 4
}
